{
 "cells": [
  {
   "cell_type": "code",
   "execution_count": 1,
   "id": "add0fc39",
   "metadata": {},
   "outputs": [],
   "source": [
    "import numpy as np\n",
    "import matplotlib.pylab as plt\n",
    "%matplotlib inline\n",
    "import pandas as pd\n",
    "import sqlite3"
   ]
  },
  {
   "cell_type": "code",
   "execution_count": 18,
   "id": "1fc89384",
   "metadata": {},
   "outputs": [],
   "source": [
    "con = sqlite3.connect('baseline_v2.0_10yrs.db')\n",
    "q = 'select fivesigmadepth,airmass,seeingFwhmEff,skybrightness from observations where filter=\"u\";'\n",
    "df2 = pd.read_sql(q, con)\n",
    "con.close()\n",
    "con = sqlite3.connect('baseline_v2.1_10yrs.db')\n",
    "df21 = pd.read_sql(q, con)\n",
    "con.close()"
   ]
  },
  {
   "cell_type": "code",
   "execution_count": 20,
   "id": "bd86fc1f",
   "metadata": {},
   "outputs": [
    {
     "data": {
      "text/plain": [
       "(22.5909039503726, 22.5897465808411)"
      ]
     },
     "execution_count": 20,
     "metadata": {},
     "output_type": "execute_result"
    }
   ],
   "source": [
    "np.median(df2['skyBrightness']), np.median(df21['skyBrightness'])"
   ]
  },
  {
   "cell_type": "code",
   "execution_count": 21,
   "id": "0babcd35",
   "metadata": {},
   "outputs": [
    {
     "data": {
      "image/png": "[encoded data removed]",
      "text/plain": [
       "<Figure size 432x288 with 1 Axes>"
      ]
     },
     "metadata": {
      "needs_background": "light"
     },
     "output_type": "display_data"
    }
   ],
   "source": [
    "ack = plt.hist(df2['skyBrightness'], bins=100)"
   ]
  },
  {
   "cell_type": "code",
   "execution_count": 22,
   "id": "5ee5cd3c",
   "metadata": {},
   "outputs": [
    {
     "data": {
      "image/png": "[encoded data removed]",
      "text/plain": [
       "<Figure size 432x288 with 1 Axes>"
      ]
     },
     "metadata": {
      "needs_background": "light"
     },
     "output_type": "display_data"
    }
   ],
   "source": [
    "ack = plt.hist(df21['skyBrightness'], bins=100)"
   ]
  },
  {
   "cell_type": "code",
   "execution_count": null,
   "id": "cba519dd",
   "metadata": {},
   "outputs": [],
   "source": []
  }
 ],
 "metadata": {
  "kernelspec": {
   "display_name": "Python 3 (ipykernel)",
   "language": "python",
   "name": "python3"
  },
  "language_info": {
   "codemirror_mode": {
    "name": "ipython",
    "version": 3
   },
   "file_extension": ".py",
   "mimetype": "text/x-python",
   "name": "python",
   "nbconvert_exporter": "python",
   "pygments_lexer": "ipython3",
   "version": "3.8.13"
  }
 },
 "nbformat": 4,
 "nbformat_minor": 5
}
