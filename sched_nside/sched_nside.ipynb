{
 "cells": [
  {
   "cell_type": "markdown",
   "metadata": {},
   "source": [
    "Let's run a little test to see how much we scale with nside. Maybe also do it with no DDFs to see how that impacts things"
   ]
  },
  {
   "cell_type": "code",
   "execution_count": 7,
   "metadata": {},
   "outputs": [],
   "source": [
    "import numpy as np\n",
    "import matplotlib.pylab as plt\n",
    "%matplotlib inline\n",
    "import healpy as hp\n",
    "from baseline_like import build_sched\n",
    "import time\n",
    "from rubin_sim.scheduler import sim_runner\n",
    "from rubin_sim.scheduler.schedulers import  Core_scheduler, simple_filter_sched\n",
    "from rubin_sim.scheduler.modelObservatory import Model_observatory\n",
    "import pickle\n",
    "import subprocess"
   ]
  },
  {
   "cell_type": "code",
   "execution_count": 2,
   "metadata": {},
   "outputs": [
    {
     "name": "stderr",
     "output_type": "stream",
     "text": [
      "WARNING: TimeDeltaMissingUnitWarning: Numerical value without unit or explicit format passed to TimeDelta, assuming days [astropy.time.core]\n"
     ]
    },
    {
     "name": "stdout",
     "output_type": "stream",
     "text": [
      "Optimizing ELAISS1\n",
      "Optimizing XMM_LSS\n",
      "Optimizing ECDFS\n",
      "Optimizing COSMOS\n",
      "Optimizing EDFS_a\n"
     ]
    },
    {
     "name": "stderr",
     "output_type": "stream",
     "text": [
      "WARNING: TimeDeltaMissingUnitWarning: Numerical value without unit or explicit format passed to TimeDelta, assuming days [astropy.time.core]\n"
     ]
    },
    {
     "name": "stdout",
     "output_type": "stream",
     "text": [
      "Optimizing ELAISS1\n",
      "Optimizing XMM_LSS\n",
      "Optimizing ECDFS\n",
      "Optimizing COSMOS\n",
      "Optimizing EDFS_a\n"
     ]
    },
    {
     "name": "stderr",
     "output_type": "stream",
     "text": [
      "WARNING: TimeDeltaMissingUnitWarning: Numerical value without unit or explicit format passed to TimeDelta, assuming days [astropy.time.core]\n"
     ]
    },
    {
     "name": "stdout",
     "output_type": "stream",
     "text": [
      "Optimizing ELAISS1\n",
      "Optimizing XMM_LSS\n",
      "Optimizing ECDFS\n",
      "Optimizing COSMOS\n",
      "Optimizing EDFS_a\n"
     ]
    }
   ],
   "source": [
    "nsides = [32, 64, 128]\n",
    "schedulers = [build_sched(nside) for nside in nsides]"
   ]
  },
  {
   "cell_type": "code",
   "execution_count": 3,
   "metadata": {},
   "outputs": [
    {
     "name": "stdout",
     "output_type": "stream",
     "text": [
      "progress = 9.95%"
     ]
    },
    {
     "name": "stderr",
     "output_type": "stream",
     "text": [
      "/Users/yoachim/git_repos/rubin_sim/rubin_sim/skybrightness_pre/SkyModelPre.py:272: UserWarning: Requested MJD between sunrise and sunset, returning closest maps\n",
      "  warnings.warn(\n"
     ]
    },
    {
     "name": "stdout",
     "output_type": "stream",
     "text": [
      "progress = 56.64%"
     ]
    },
    {
     "name": "stderr",
     "output_type": "stream",
     "text": [
      "/Users/yoachim/git_repos/rubin_sim/rubin_sim/utils/healpyUtils.py:331: RuntimeWarning: All-NaN slice encountered\n",
      "  in_map[current_neighbors] == np.nanmax(in_map[current_neighbors])\n",
      "/Users/yoachim/git_repos/rubin_sim/rubin_sim/utils/healpyUtils.py:335: UserWarning: Can not connect to any more pixels.\n",
      "  warnings.warn(\"Can not connect to any more pixels.\")\n"
     ]
    },
    {
     "name": "stdout",
     "output_type": "stream",
     "text": [
      "progress = 100.00%Skipped 0 observations\n",
      "Flushed 2010 observations from queue for being stale\n",
      "Completed 21241 observations\n",
      "ran in 7 min = 0.1 hours\n",
      "Writing results to  None\n",
      "progress = 100.00%Skipped 0 observations\n",
      "Flushed 2006 observations from queue for being stale\n",
      "Completed 21237 observations\n",
      "ran in 14 min = 0.2 hours\n",
      "Writing results to  None\n",
      "progress = 100.00%Skipped 0 observations\n",
      "Flushed 1696 observations from queue for being stale\n",
      "Completed 21266 observations\n",
      "ran in 51 min = 0.9 hours\n",
      "Writing results to  None\n"
     ]
    }
   ],
   "source": [
    "run_times = []\n",
    "n_obs = []\n",
    "\n",
    "illum_limit = 40\n",
    "survey_length = 30  # Days\n",
    "\n",
    "for nside,sched in zip(nsides, schedulers):\n",
    "    scheduler = Core_scheduler(sched, nside=nside)\n",
    "    \n",
    "    filter_sched = simple_filter_sched(illum_limit=illum_limit)\n",
    "    observatory = Model_observatory(nside=nside)\n",
    "    t0 = time.time()\n",
    "    observatory, scheduler, observations = sim_runner(observatory, scheduler,\n",
    "                                                      survey_length=survey_length,\n",
    "                                                      filename=None,\n",
    "                                                      filter_scheduler=filter_sched)\n",
    "    t1 = time.time()\n",
    "    run_times.append((t1-t0)/60.)\n",
    "    n_obs.append(observations.size)\n",
    "    with open('sched%i.pkl' % nside, 'wb') as f:\n",
    "        pickle.dump(scheduler, f)\n",
    "    "
   ]
  },
  {
   "cell_type": "code",
   "execution_count": 11,
   "metadata": {},
   "outputs": [
    {
     "data": {
      "text/plain": [
       "<subprocess.Popen at 0x7f8795bf4e20>"
      ]
     },
     "execution_count": 11,
     "metadata": {},
     "output_type": "execute_result"
    },
    {
     "name": "stdout",
     "output_type": "stream",
     "text": [
      "-rw-r--r--  1 yoachim  staff   1.2G Sep 16 11:17 sched128.pkl\n",
      "-rw-r--r--  1 yoachim  staff   124M Sep 16 10:11 sched32.pkl\n",
      "-rw-r--r--  1 yoachim  staff   347M Sep 16 10:25 sched64.pkl\n"
     ]
    }
   ],
   "source": [
    "subprocess.Popen('ls -lh sched*.pkl', shell=True)"
   ]
  },
  {
   "cell_type": "code",
   "execution_count": 4,
   "metadata": {},
   "outputs": [
    {
     "name": "stdout",
     "output_type": "stream",
     "text": [
      "[7.7560529987017315, 14.096290449301401, 51.47799470027288]\n"
     ]
    }
   ],
   "source": [
    "print(run_times)"
   ]
  },
  {
   "cell_type": "code",
   "execution_count": 5,
   "metadata": {},
   "outputs": [
    {
     "name": "stdout",
     "output_type": "stream",
     "text": [
      "[21241, 21237, 21266]\n"
     ]
    }
   ],
   "source": [
    "print(n_obs)"
   ]
  },
  {
   "cell_type": "code",
   "execution_count": null,
   "metadata": {},
   "outputs": [],
   "source": []
  },
  {
   "cell_type": "code",
   "execution_count": null,
   "metadata": {},
   "outputs": [],
   "source": []
  },
  {
   "cell_type": "code",
   "execution_count": null,
   "metadata": {},
   "outputs": [],
   "source": []
  }
 ],
 "metadata": {
  "kernelspec": {
   "display_name": "Python 3 (ipykernel)",
   "language": "python",
   "name": "python3"
  },
  "language_info": {
   "codemirror_mode": {
    "name": "ipython",
    "version": 3
   },
   "file_extension": ".py",
   "mimetype": "text/x-python",
   "name": "python",
   "nbconvert_exporter": "python",
   "pygments_lexer": "ipython3",
   "version": "3.8.13"
  }
 },
 "nbformat": 4,
 "nbformat_minor": 4
}
