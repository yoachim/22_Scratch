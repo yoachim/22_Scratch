{
 "cells": [
  {
   "cell_type": "code",
   "execution_count": 1,
   "id": "04c05bc5",
   "metadata": {},
   "outputs": [],
   "source": [
    "# Runnin this on the dev-camel-snake branch since it will get merged to main soon\n",
    "import numpy as np\n",
    "import rubin_sim.moving_objects as mo\n",
    "from rubin_sim.maf.batches import col_map_dict\n",
    "from rubin_sim.data import get_data_dir\n",
    "import os"
   ]
  },
  {
   "cell_type": "code",
   "execution_count": 2,
   "id": "aa33bfc9",
   "metadata": {},
   "outputs": [],
   "source": [
    "# A run that has a decent NEO survey in it\n",
    "run_file = \"franken_v2.99_10yrs.db\"\n",
    "run_name = run_file.replace('.db', '')\n",
    "\n",
    "colmap = col_map_dict()"
   ]
  },
  {
   "cell_type": "code",
   "execution_count": 3,
   "id": "6ff30b52",
   "metadata": {},
   "outputs": [],
   "source": [
    "data_dir = get_data_dir()\n",
    "# Let's go with vatiras. Could also try granvik_5k.txt or granvik_pha_5k.txt\n",
    "orbit_file = os.path.join(data_dir, 'orbits', 'granvik_pha_5k.txt')\n",
    "orbits = mo.read_orbits(orbit_file)\n",
    "\n",
    "orbitbase = \".\".join(os.path.split(orbit_file)[-1].split(\".\")[:-1])\n",
    "out_file = os.path.join(\"%s__%s_obs.txt\" % (run_name, orbitbase))"
   ]
  },
  {
   "cell_type": "code",
   "execution_count": 4,
   "id": "6726376d",
   "metadata": {},
   "outputs": [],
   "source": [
    "pointing_data = mo.read_observations(run_file, colmap,\n",
    "                                     dbcols=None)"
   ]
  },
  {
   "cell_type": "code",
   "execution_count": 5,
   "id": "a1407f2e",
   "metadata": {},
   "outputs": [],
   "source": [
    "# Generate a file with all the observations containing a solar system object\n",
    "# There's lots of potential to speed up this step, but it'll work for now. Takes a few hours probably\n",
    "mo.run_obs(orbits, pointing_data, colmap, out_file)"
   ]
  },
  {
   "cell_type": "code",
   "execution_count": null,
   "id": "9ffbdbf6",
   "metadata": {},
   "outputs": [],
   "source": []
  },
  {
   "cell_type": "code",
   "execution_count": null,
   "id": "9489d7cf",
   "metadata": {},
   "outputs": [],
   "source": []
  }
 ],
 "metadata": {
  "kernelspec": {
   "display_name": "Python 3 (ipykernel)",
   "language": "python",
   "name": "python3"
  },
  "language_info": {
   "codemirror_mode": {
    "name": "ipython",
    "version": 3
   },
   "file_extension": ".py",
   "mimetype": "text/x-python",
   "name": "python",
   "nbconvert_exporter": "python",
   "pygments_lexer": "ipython3",
   "version": "3.8.12"
  }
 },
 "nbformat": 4,
 "nbformat_minor": 5
}
