{
 "cells": [
  {
   "cell_type": "code",
   "execution_count": 1,
   "id": "a170f390",
   "metadata": {},
   "outputs": [],
   "source": [
    "import os\n",
    "import numpy as np\n",
    "import matplotlib.pyplot as plt\n",
    "%matplotlib inline\n",
    "\n",
    "import healpy as hp\n",
    "import pandas as pd\n",
    "\n",
    "import rubin_sim.maf as maf\n",
    "from rubin_sim.data import get_baseline\n"
   ]
  },
  {
   "cell_type": "code",
   "execution_count": 2,
   "id": "fcf47960",
   "metadata": {},
   "outputs": [],
   "source": [
    "baseline_file = get_baseline()\n",
    "opsdb = maf.db.OpsimDatabase(baseline_file)\n",
    "runName = os.path.split(baseline_file)[-1].replace('.db', '')\n"
   ]
  },
  {
   "cell_type": "code",
   "execution_count": 3,
   "id": "36e797dd",
   "metadata": {},
   "outputs": [],
   "source": [
    "\n",
    "summaryMetrics=[maf.SumMetric()]\n",
    "\n",
    "slicer = maf.UniSlicer()\n",
    "metric = maf.SkySaturationMetric()\n",
    "bundle = maf.MetricBundle(metric, slicer, None,\n",
    "                        summaryMetrics=summaryMetrics)\n",
    "\n",
    "outDir = 'test_xrb'\n",
    "bdict = maf.makeBundlesDictFromList([bundle])\n",
    "g = maf.MetricBundleGroup(bdict, opsdb, outDir)\n"
   ]
  },
  {
   "cell_type": "code",
   "execution_count": 4,
   "id": "0f58a1dc",
   "metadata": {},
   "outputs": [
    {
     "name": "stdout",
     "output_type": "stream",
     "text": [
      "Querying table None with no constraint for columns ['seeingFwhmEff', 'visitExposureTime', 'airmass', 'filter', 'numExposures', 'skyBrightness'].\n",
      "Found 2086980 visits\n",
      "Running:  ['opsim_SkySaturation_UNIS']\n",
      "Completed metric generation.\n",
      "Running reduce methods.\n",
      "Running summary statistics.\n",
      "Completed.\n"
     ]
    }
   ],
   "source": [
    "g.runAll()"
   ]
  },
  {
   "cell_type": "code",
   "execution_count": 5,
   "id": "2e39cc42",
   "metadata": {},
   "outputs": [
    {
     "data": {
      "text/plain": [
       "{'Sum': 0.0}"
      ]
     },
     "execution_count": 5,
     "metadata": {},
     "output_type": "execute_result"
    }
   ],
   "source": [
    "bundle.summaryValues"
   ]
  },
  {
   "cell_type": "code",
   "execution_count": null,
   "id": "bc0282d8",
   "metadata": {},
   "outputs": [],
   "source": []
  }
 ],
 "metadata": {
  "kernelspec": {
   "display_name": "Python 3 (ipykernel)",
   "language": "python",
   "name": "python3"
  },
  "language_info": {
   "codemirror_mode": {
    "name": "ipython",
    "version": 3
   },
   "file_extension": ".py",
   "mimetype": "text/x-python",
   "name": "python",
   "nbconvert_exporter": "python",
   "pygments_lexer": "ipython3",
   "version": "3.8.12"
  }
 },
 "nbformat": 4,
 "nbformat_minor": 5
}
