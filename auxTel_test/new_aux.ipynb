{
 "cells": [
  {
   "cell_type": "code",
   "execution_count": 1,
   "id": "f5fede72",
   "metadata": {},
   "outputs": [],
   "source": [
    "import numpy as np\n",
    "import matplotlib.pylab as plt\n",
    "%matplotlib inline\n",
    "import healpy as hp\n",
    "from rubin_sim.utils import healbin\n",
    "import pandas as pd\n",
    "from rubin_sim.scheduler.utils import empty_observation\n",
    "from astropy import units\n",
    "from astropy.coordinates import Angle\n",
    "from pointing_survey import PointingsSurvey\n",
    "from rubin_sim.scheduler.schedulers import Core_scheduler\n",
    "from rubin_sim.scheduler import sim_runner\n",
    "from rubin_sim.scheduler.modelObservatory import Model_observatory\n",
    "\n",
    "from rubin_sim.scheduler.surveys import BaseSurvey\n",
    "from rubin_sim.scheduler.utils import empty_observation\n",
    "\n",
    "import pickle"
   ]
  },
  {
   "cell_type": "code",
   "execution_count": 2,
   "id": "53da9f1a",
   "metadata": {},
   "outputs": [],
   "source": [
    "tiles = pd.read_csv('/Users/yoachim/git_repos/ts_fbs_utils/python/lsst/ts/fbs/utils/data/auxtel_tiles.txt', delimiter=' ')"
   ]
  },
  {
   "cell_type": "code",
   "execution_count": 3,
   "id": "f29540cd",
   "metadata": {},
   "outputs": [
    {
     "data": {
      "text/html": [
       "<div>\n",
       "<style scoped>\n",
       "    .dataframe tbody tr th:only-of-type {\n",
       "        vertical-align: middle;\n",
       "    }\n",
       "\n",
       "    .dataframe tbody tr th {\n",
       "        vertical-align: top;\n",
       "    }\n",
       "\n",
       "    .dataframe thead th {\n",
       "        text-align: right;\n",
       "    }\n",
       "</style>\n",
       "<table border=\"1\" class=\"dataframe\">\n",
       "  <thead>\n",
       "    <tr style=\"text-align: right;\">\n",
       "      <th></th>\n",
       "      <th>Survey</th>\n",
       "      <th>Name</th>\n",
       "      <th>RA</th>\n",
       "      <th>Dec</th>\n",
       "    </tr>\n",
       "  </thead>\n",
       "  <tbody>\n",
       "    <tr>\n",
       "      <th>0</th>\n",
       "      <td>LATISS_POLE</td>\n",
       "      <td>001</td>\n",
       "      <td>00:00:00.00</td>\n",
       "      <td>-89:53:48.23</td>\n",
       "    </tr>\n",
       "    <tr>\n",
       "      <th>1</th>\n",
       "      <td>LATISS_POLE</td>\n",
       "      <td>002</td>\n",
       "      <td>02:10:54.54</td>\n",
       "      <td>-89:53:48.23</td>\n",
       "    </tr>\n",
       "    <tr>\n",
       "      <th>2</th>\n",
       "      <td>LATISS_POLE</td>\n",
       "      <td>003</td>\n",
       "      <td>04:21:49.09</td>\n",
       "      <td>-89:53:48.23</td>\n",
       "    </tr>\n",
       "    <tr>\n",
       "      <th>3</th>\n",
       "      <td>LATISS_POLE</td>\n",
       "      <td>004</td>\n",
       "      <td>06:32:43.63</td>\n",
       "      <td>-89:53:48.23</td>\n",
       "    </tr>\n",
       "    <tr>\n",
       "      <th>4</th>\n",
       "      <td>LATISS_POLE</td>\n",
       "      <td>005</td>\n",
       "      <td>08:43:38.18</td>\n",
       "      <td>-89:53:48.23</td>\n",
       "    </tr>\n",
       "    <tr>\n",
       "      <th>...</th>\n",
       "      <td>...</td>\n",
       "      <td>...</td>\n",
       "      <td>...</td>\n",
       "      <td>...</td>\n",
       "    </tr>\n",
       "    <tr>\n",
       "      <th>1626</th>\n",
       "      <td>AUXTEL_DRP_IMAGING</td>\n",
       "      <td>A2390_060</td>\n",
       "      <td>21:53:13.25</td>\n",
       "      <td>+17:58:37.05</td>\n",
       "    </tr>\n",
       "    <tr>\n",
       "      <th>1627</th>\n",
       "      <td>AUXTEL_DRP_IMAGING</td>\n",
       "      <td>A2390_061</td>\n",
       "      <td>21:53:36.96</td>\n",
       "      <td>+17:58:37.05</td>\n",
       "    </tr>\n",
       "    <tr>\n",
       "      <th>1628</th>\n",
       "      <td>AUXTEL_DRP_IMAGING</td>\n",
       "      <td>A2390_062</td>\n",
       "      <td>21:54:00.67</td>\n",
       "      <td>+17:58:37.05</td>\n",
       "    </tr>\n",
       "    <tr>\n",
       "      <th>1629</th>\n",
       "      <td>AUXTEL_DRP_IMAGING</td>\n",
       "      <td>A2390_063</td>\n",
       "      <td>21:54:24.38</td>\n",
       "      <td>+17:58:37.05</td>\n",
       "    </tr>\n",
       "    <tr>\n",
       "      <th>1630</th>\n",
       "      <td>AUXTEL_DRP_IMAGING</td>\n",
       "      <td>A2390_064</td>\n",
       "      <td>21:54:48.09</td>\n",
       "      <td>+17:58:37.05</td>\n",
       "    </tr>\n",
       "  </tbody>\n",
       "</table>\n",
       "<p>1631 rows × 4 columns</p>\n",
       "</div>"
      ],
      "text/plain": [
       "                  Survey       Name           RA           Dec\n",
       "0            LATISS_POLE        001  00:00:00.00  -89:53:48.23\n",
       "1            LATISS_POLE        002  02:10:54.54  -89:53:48.23\n",
       "2            LATISS_POLE        003  04:21:49.09  -89:53:48.23\n",
       "3            LATISS_POLE        004  06:32:43.63  -89:53:48.23\n",
       "4            LATISS_POLE        005  08:43:38.18  -89:53:48.23\n",
       "...                  ...        ...          ...           ...\n",
       "1626  AUXTEL_DRP_IMAGING  A2390_060  21:53:13.25  +17:58:37.05\n",
       "1627  AUXTEL_DRP_IMAGING  A2390_061  21:53:36.96  +17:58:37.05\n",
       "1628  AUXTEL_DRP_IMAGING  A2390_062  21:54:00.67  +17:58:37.05\n",
       "1629  AUXTEL_DRP_IMAGING  A2390_063  21:54:24.38  +17:58:37.05\n",
       "1630  AUXTEL_DRP_IMAGING  A2390_064  21:54:48.09  +17:58:37.05\n",
       "\n",
       "[1631 rows x 4 columns]"
      ]
     },
     "execution_count": 3,
     "metadata": {},
     "output_type": "execute_result"
    }
   ],
   "source": [
    "tiles"
   ]
  },
  {
   "cell_type": "code",
   "execution_count": 4,
   "id": "1afc3965",
   "metadata": {},
   "outputs": [],
   "source": [
    "\n",
    "class SCP_survey(BaseSurvey):\n",
    "    \"\"\"A South Celestial Pole survey\"\"\"\n",
    "    def generate_observations_rough(self, conditions):\n",
    "        obs = empty_observation()\n",
    "        obs['RA'] = 0.\n",
    "        obs['dec'] = np.radians(-87.)\n",
    "        obs['exptime'] = 30.  # Seconds\n",
    "        obs['nexp'] = 2\n",
    "        obs['filter'] = 'r'\n",
    "        # If it's been 12 hours or more, don't try to execute the observation anymore\n",
    "        obs['flush_by_mjd'] = conditions.mjd + 0.5\n",
    "        obs['note'] = 'scp'  # Always good to set the note to which survey generated the observation\n",
    "        # Make it a list of 3\n",
    "        result = [obs] * 3\n",
    "        return result"
   ]
  },
  {
   "cell_type": "code",
   "execution_count": 5,
   "id": "9279d8a0",
   "metadata": {},
   "outputs": [],
   "source": [
    "obs = empty_observation()\n",
    "obs = np.zeros(tiles['Survey'].size, dtype=obs.dtype)"
   ]
  },
  {
   "cell_type": "code",
   "execution_count": 6,
   "id": "36150d52",
   "metadata": {},
   "outputs": [
    {
     "data": {
      "text/plain": [
       "dtype([('ID', '<i8'), ('RA', '<f8'), ('dec', '<f8'), ('mjd', '<f8'), ('flush_by_mjd', '<f8'), ('exptime', '<f8'), ('filter', '<U1'), ('rotSkyPos', '<f8'), ('rotSkyPos_desired', '<f8'), ('nexp', '<i8'), ('airmass', '<f8'), ('FWHM_500', '<f8'), ('FWHMeff', '<f8'), ('FWHM_geometric', '<f8'), ('skybrightness', '<f8'), ('night', '<i8'), ('slewtime', '<f8'), ('visittime', '<f8'), ('slewdist', '<f8'), ('fivesigmadepth', '<f8'), ('alt', '<f8'), ('az', '<f8'), ('pa', '<f8'), ('clouds', '<f8'), ('moonAlt', '<f8'), ('sunAlt', '<f8'), ('note', '<U40'), ('field_id', '<i8'), ('survey_id', '<i8'), ('block_id', '<i8'), ('lmst', '<f8'), ('rotTelPos', '<f8'), ('rotTelPos_backup', '<f8'), ('moonAz', '<f8'), ('sunAz', '<f8'), ('sunRA', '<f8'), ('sunDec', '<f8'), ('moonRA', '<f8'), ('moonDec', '<f8'), ('moonDist', '<f8'), ('solarElong', '<f8'), ('moonPhase', '<f8'), ('cummTelAz', '<f8'), ('scripted_id', '<i8')])"
      ]
     },
     "execution_count": 6,
     "metadata": {},
     "output_type": "execute_result"
    }
   ],
   "source": [
    "obs.dtype"
   ]
  },
  {
   "cell_type": "code",
   "execution_count": 7,
   "id": "15e4bbc4",
   "metadata": {},
   "outputs": [],
   "source": [
    "obs['note'] = tiles['Survey'] + tiles['Name']\n",
    "obs['RA'] = Angle(tiles['RA'],unit=units.hourangle).rad\n",
    "obs['dec'] = Angle(tiles['Dec'],unit=units.degree).rad\n",
    "\n",
    "obs['flush_by_mjd'] = 0.\n",
    "obs['nexp'] = 1\n",
    "obs['filter'] = 'r'\n",
    "obs['exptime'] = 60.\n",
    "# obs['rotSkyPos'] = np.nan"
   ]
  },
  {
   "cell_type": "code",
   "execution_count": 8,
   "id": "554cfe6d",
   "metadata": {},
   "outputs": [],
   "source": [
    "ps = PointingsSurvey(obs)\n",
    "scp = SCP_survey([])\n",
    "sched = Core_scheduler([[ps]])"
   ]
  },
  {
   "cell_type": "code",
   "execution_count": 9,
   "id": "48fe251f",
   "metadata": {},
   "outputs": [
    {
     "name": "stderr",
     "output_type": "stream",
     "text": [
      "WARNING: TimeDeltaMissingUnitWarning: Numerical value without unit or explicit format passed to TimeDelta, assuming days [astropy.time.core]\n"
     ]
    }
   ],
   "source": [
    "mo = Model_observatory()"
   ]
  },
  {
   "cell_type": "code",
   "execution_count": 10,
   "id": "635902c7",
   "metadata": {},
   "outputs": [
    {
     "name": "stderr",
     "output_type": "stream",
     "text": [
      "/Users/yoachim/git_repos/22_Scratch/auxTel_test/pointing_survey.py:141: RuntimeWarning: invalid value encountered in true_divide\n",
      "  result = np.floor(1.+self.n_obs/sum_obs)\n"
     ]
    },
    {
     "data": {
      "text/plain": [
       "[array([(0, 5.39245725, -0.08614068, 0., 0., 60., 'r', 0., 0., 1, 0., 0., 0., 0., 0., 0, 0., 0., 0., 0., 0., 0., 0., 0., 0., 0., 'AUXTEL_DRP_IMAGINGSDSS-J203722_057', 0, 0, 0, 0., 0., 0., 0., 0., 0., 0., 0., 0., 0., 0., 0., 0., 0)],\n",
       "       dtype=[('ID', '<i8'), ('RA', '<f8'), ('dec', '<f8'), ('mjd', '<f8'), ('flush_by_mjd', '<f8'), ('exptime', '<f8'), ('filter', '<U1'), ('rotSkyPos', '<f8'), ('rotSkyPos_desired', '<f8'), ('nexp', '<i8'), ('airmass', '<f8'), ('FWHM_500', '<f8'), ('FWHMeff', '<f8'), ('FWHM_geometric', '<f8'), ('skybrightness', '<f8'), ('night', '<i8'), ('slewtime', '<f8'), ('visittime', '<f8'), ('slewdist', '<f8'), ('fivesigmadepth', '<f8'), ('alt', '<f8'), ('az', '<f8'), ('pa', '<f8'), ('clouds', '<f8'), ('moonAlt', '<f8'), ('sunAlt', '<f8'), ('note', '<U40'), ('field_id', '<i8'), ('survey_id', '<i8'), ('block_id', '<i8'), ('lmst', '<f8'), ('rotTelPos', '<f8'), ('rotTelPos_backup', '<f8'), ('moonAz', '<f8'), ('sunAz', '<f8'), ('sunRA', '<f8'), ('sunDec', '<f8'), ('moonRA', '<f8'), ('moonDec', '<f8'), ('moonDist', '<f8'), ('solarElong', '<f8'), ('moonPhase', '<f8'), ('cummTelAz', '<f8'), ('scripted_id', '<i8')])]"
      ]
     },
     "execution_count": 10,
     "metadata": {},
     "output_type": "execute_result"
    }
   ],
   "source": [
    "conditions = mo.return_conditions()\n",
    "ack = ps.generate_observations(conditions)\n",
    "ack"
   ]
  },
  {
   "cell_type": "code",
   "execution_count": 11,
   "id": "9314abd9",
   "metadata": {},
   "outputs": [
    {
     "name": "stdout",
     "output_type": "stream",
     "text": [
      "progress = 99.49%"
     ]
    },
    {
     "name": "stderr",
     "output_type": "stream",
     "text": [
      "/Users/yoachim/git_repos/rubin_sim/rubin_sim/skybrightness_pre/SkyModelPre.py:272: UserWarning: Requested MJD between sunrise and sunset, returning closest maps\n",
      "  warnings.warn(\n"
     ]
    },
    {
     "name": "stdout",
     "output_type": "stream",
     "text": [
      "Skipped 0 observations\n",
      "Flushed 0 observations from queue for being stale\n",
      "Completed 1249 observations\n",
      "ran in 0 min = 0.0 hours\n",
      "Writing results to  None\n"
     ]
    }
   ],
   "source": [
    "mo, sched, completed_obs = sim_runner(mo, sched, survey_length=3)\n"
   ]
  },
  {
   "cell_type": "code",
   "execution_count": 12,
   "id": "0909a202",
   "metadata": {},
   "outputs": [
    {
     "data": {
      "text/plain": [
       "array([(1229, 5.39245725, -0.08614068, 60220.98525399, 0., 60., 'r', 2.72123273, 0., 1, 1.13313528, 0.31293321, 0.62284008, 0.56397455, 20.23952488, 3, 54.71709396, 61., 0.4366023 , 24.6367926 , 1.08116681, 0.49001237, 3.56195258, 0., -0.83834562, -0.21307789, 'AUXTEL_DRP_IMAGINGSDSS-J203722_057', 0, 0, 0, 19.75716679, 0., 0., 1.46219606, 4.49889752, 3.3046998 , -0.07026651, 1.1934235 , 0.45107402, 2.06900037, 2.07733405, 66.39335683, 0.49001237, 0),\n",
       "       (1230, 5.39904296, -0.09762519, 60220.98600476, 0., 60., 'r', 2.71528784, 0., 1, 1.12646584, 0.31293321, 0.62063793, 0.56216437, 20.23815804, 3,  3.86675028, 61., 0.01322497, 24.64080829, 1.09239539, 0.4965366 , 3.56789747, 0., -0.8345317 , -0.21704439, 'AUXTEL_DRP_IMAGINGSDSS-J203722_005', 0, 0, 0, 19.77523466, 0., 0., 1.46039168, 4.4963438 , 3.30471169, -0.07027157, 1.19365779, 0.45113137, 2.06848597, 2.08230394, 66.38683286, 0.51295818, 0),\n",
       "       (1231, 5.40069157, -0.09762519, 60220.98674929, 0., 60., 'r', 2.72038672, 0., 1, 1.12573055, 0.31293321, 0.62039482, 0.56196455, 20.32039101, 3,  3.32693219, 61., 0.00164076, 24.6815741 , 1.09365645, 0.49045653, 3.56279859, 0., -0.83074959, -0.22097544, 'AUXTEL_DRP_IMAGINGSDSS-J203722_006', 0, 0, 0, 19.79315218, 0., 0., 1.45860329, 4.49380379, 3.30472348, -0.07027659, 1.19388989, 0.45118832, 2.06721573, 2.08391706, 66.38036992, 0.51622279, 0),\n",
       "       ...,\n",
       "       (1246, 5.39409859, -0.09598453, 60220.99793819, 0., 60., 'r', 2.85792258, 0., 1, 1.11169944, 0.40259173, 0.68444618, 0.61461476, 21.06107124, 3,  3.36487262, 61., 0.0023204 , 24.93548646, 1.11867805, 0.32835695, 3.42526272, 0., -0.77391893, -0.27975948, 'AUXTEL_DRP_IMAGINGSDSS-J203722_010', 0, 0, 0, 20.06242099, 0., 0., 1.43184084, 4.4547115 , 3.3049007 , -0.07035201, 1.19734856, 0.45205212, 2.07531064, 2.07745086, 66.28405049, 0.50081446, 0),\n",
       "       (1247, 5.39739508, -0.09434387, 60220.99868414, 0., 60., 'r', 2.86147452, 0., 1, 1.11234258, 0.40259173, 0.68468373, 0.61481003, 21.07157018, 3,  3.45040136, 61., 0.00366885, 24.94005434, 1.11748902, 0.32425951, 3.42171079, 0., -0.7701306 , -0.28365903, 'AUXTEL_DRP_IMAGINGSDSS-J203722_020', 0, 0, 0, 20.0803729 , 0., 0., 1.43006398, 4.45204281, 3.30491251, -0.07035704, 1.19757719, 0.45211024, 2.07183671, 2.08091032, 66.27768279, 0.5070105 , 0),\n",
       "       (1248, 5.40233872, -0.09434387, 60220.99943177, 0., 60., 'r', 2.86101864, 0., 1, 1.11237898, 0.40259173, 0.68469718, 0.61482108, 21.08209273, 3,  3.59536875, 61., 0.00492166, 24.94506326, 1.11742185, 0.32479216, 3.42216667, 0., -0.76633382, -0.28756491, 'AUXTEL_DRP_IMAGINGSDSS-J203722_023', 0, 0, 0, 20.09836518, 0., 0., 1.42828401, 4.44936016, 3.30492435, -0.07036208, 1.19780609, 0.45216856, 2.06763232, 2.08577498, 66.27130751, 0.51783699, 0)],\n",
       "      dtype=[('ID', '<i8'), ('RA', '<f8'), ('dec', '<f8'), ('mjd', '<f8'), ('flush_by_mjd', '<f8'), ('exptime', '<f8'), ('filter', '<U1'), ('rotSkyPos', '<f8'), ('rotSkyPos_desired', '<f8'), ('nexp', '<i8'), ('airmass', '<f8'), ('FWHM_500', '<f8'), ('FWHMeff', '<f8'), ('FWHM_geometric', '<f8'), ('skybrightness', '<f8'), ('night', '<i8'), ('slewtime', '<f8'), ('visittime', '<f8'), ('slewdist', '<f8'), ('fivesigmadepth', '<f8'), ('alt', '<f8'), ('az', '<f8'), ('pa', '<f8'), ('clouds', '<f8'), ('moonAlt', '<f8'), ('sunAlt', '<f8'), ('note', '<U40'), ('field_id', '<i8'), ('survey_id', '<i8'), ('block_id', '<i8'), ('lmst', '<f8'), ('rotTelPos', '<f8'), ('rotTelPos_backup', '<f8'), ('moonAz', '<f8'), ('sunAz', '<f8'), ('sunRA', '<f8'), ('sunDec', '<f8'), ('moonRA', '<f8'), ('moonDec', '<f8'), ('moonDist', '<f8'), ('solarElong', '<f8'), ('moonPhase', '<f8'), ('cummTelAz', '<f8'), ('scripted_id', '<i8')])"
      ]
     },
     "execution_count": 12,
     "metadata": {},
     "output_type": "execute_result"
    }
   ],
   "source": [
    "completed_obs"
   ]
  },
  {
   "cell_type": "code",
   "execution_count": 13,
   "id": "fa34d654",
   "metadata": {},
   "outputs": [
    {
     "data": {
      "text/plain": [
       "array(['AUXTEL_DRP_IMAGINGA2390_001', 'AUXTEL_DRP_IMAGINGA2390_002',\n",
       "       'AUXTEL_DRP_IMAGINGA2390_003', 'AUXTEL_DRP_IMAGINGA2390_004',\n",
       "       'AUXTEL_DRP_IMAGINGA2390_005', 'AUXTEL_DRP_IMAGINGA2390_009',\n",
       "       'AUXTEL_DRP_IMAGINGA2390_010', 'AUXTEL_DRP_IMAGINGA2390_011',\n",
       "       'AUXTEL_DRP_IMAGINGA2390_012', 'AUXTEL_DRP_IMAGINGA2390_013',\n",
       "       'AUXTEL_DRP_IMAGINGA2390_017', 'AUXTEL_DRP_IMAGINGA2390_018',\n",
       "       'AUXTEL_DRP_IMAGINGA2390_031', 'AUXTEL_DRP_IMAGINGA2390_032',\n",
       "       'AUXTEL_DRP_IMAGINGA2390_037', 'AUXTEL_DRP_IMAGINGA2390_038',\n",
       "       'AUXTEL_DRP_IMAGINGA2390_039', 'AUXTEL_DRP_IMAGINGA2390_040',\n",
       "       'AUXTEL_DRP_IMAGINGA2390_045', 'AUXTEL_DRP_IMAGINGA2390_046',\n",
       "       'AUXTEL_DRP_IMAGINGA2390_047', 'AUXTEL_DRP_IMAGINGA2390_048',\n",
       "       'AUXTEL_DRP_IMAGINGA2390_052', 'AUXTEL_DRP_IMAGINGA2390_053',\n",
       "       'AUXTEL_DRP_IMAGINGA2390_054', 'AUXTEL_DRP_IMAGINGA2390_055',\n",
       "       'AUXTEL_DRP_IMAGINGA2390_056', 'AUXTEL_DRP_IMAGINGA2390_057',\n",
       "       'AUXTEL_DRP_IMAGINGA2390_059', 'AUXTEL_DRP_IMAGINGA2390_060',\n",
       "       'AUXTEL_DRP_IMAGINGA2390_061', 'AUXTEL_DRP_IMAGINGA2390_062',\n",
       "       'AUXTEL_DRP_IMAGINGA2390_063', 'AUXTEL_DRP_IMAGINGA2390_064',\n",
       "       'AUXTEL_DRP_IMAGINGHS2027+0651_001',\n",
       "       'AUXTEL_DRP_IMAGINGHS2027+0651_023',\n",
       "       'AUXTEL_DRP_IMAGINGHS2027+0651_024',\n",
       "       'AUXTEL_DRP_IMAGINGHS2027+0651_029',\n",
       "       'AUXTEL_DRP_IMAGINGHS2027+0651_030',\n",
       "       'AUXTEL_DRP_IMAGINGHS2027+0651_031',\n",
       "       'AUXTEL_DRP_IMAGINGHS2027+0651_032',\n",
       "       'AUXTEL_DRP_IMAGINGHS2027+0651_036',\n",
       "       'AUXTEL_DRP_IMAGINGHS2027+0651_037',\n",
       "       'AUXTEL_DRP_IMAGINGHS2027+0651_038',\n",
       "       'AUXTEL_DRP_IMAGINGHS2027+0651_039',\n",
       "       'AUXTEL_DRP_IMAGINGHS2027+0651_040',\n",
       "       'AUXTEL_DRP_IMAGINGHS2027+0651_043',\n",
       "       'AUXTEL_DRP_IMAGINGHS2027+0651_044',\n",
       "       'AUXTEL_DRP_IMAGINGHS2027+0651_045',\n",
       "       'AUXTEL_DRP_IMAGINGHS2027+0651_046',\n",
       "       'AUXTEL_DRP_IMAGINGHS2027+0651_047',\n",
       "       'AUXTEL_DRP_IMAGINGHS2027+0651_048',\n",
       "       'AUXTEL_DRP_IMAGINGHS2027+0651_051',\n",
       "       'AUXTEL_DRP_IMAGINGHS2027+0651_052',\n",
       "       'AUXTEL_DRP_IMAGINGHS2027+0651_053',\n",
       "       'AUXTEL_DRP_IMAGINGHS2027+0651_054',\n",
       "       'AUXTEL_DRP_IMAGINGHS2027+0651_055',\n",
       "       'AUXTEL_DRP_IMAGINGHS2027+0651_056',\n",
       "       'AUXTEL_DRP_IMAGINGHS2027+0651_060',\n",
       "       'AUXTEL_DRP_IMAGINGHS2027+0651_061',\n",
       "       'AUXTEL_DRP_IMAGINGHS2027+0651_062',\n",
       "       'AUXTEL_DRP_IMAGINGHS2027+0651_063',\n",
       "       'AUXTEL_DRP_IMAGINGHS2027+0651_064',\n",
       "       'AUXTEL_DRP_IMAGINGRXJ2129.7+0005_001',\n",
       "       'AUXTEL_DRP_IMAGINGRXJ2129.7+0005_009',\n",
       "       'AUXTEL_DRP_IMAGINGRXJ2129.7+0005_010',\n",
       "       'AUXTEL_DRP_IMAGINGRXJ2129.7+0005_011',\n",
       "       'AUXTEL_DRP_IMAGINGRXJ2129.7+0005_017',\n",
       "       'AUXTEL_DRP_IMAGINGRXJ2129.7+0005_018',\n",
       "       'AUXTEL_DRP_IMAGINGRXJ2129.7+0005_019',\n",
       "       'AUXTEL_DRP_IMAGINGRXJ2129.7+0005_020',\n",
       "       'AUXTEL_DRP_IMAGINGRXJ2129.7+0005_021',\n",
       "       'AUXTEL_DRP_IMAGINGRXJ2129.7+0005_025',\n",
       "       'AUXTEL_DRP_IMAGINGRXJ2129.7+0005_026',\n",
       "       'AUXTEL_DRP_IMAGINGRXJ2129.7+0005_027',\n",
       "       'AUXTEL_DRP_IMAGINGRXJ2129.7+0005_028',\n",
       "       'AUXTEL_DRP_IMAGINGRXJ2129.7+0005_029',\n",
       "       'AUXTEL_DRP_IMAGINGRXJ2129.7+0005_030',\n",
       "       'AUXTEL_DRP_IMAGINGRXJ2129.7+0005_033',\n",
       "       'AUXTEL_DRP_IMAGINGRXJ2129.7+0005_034',\n",
       "       'AUXTEL_DRP_IMAGINGRXJ2129.7+0005_035',\n",
       "       'AUXTEL_DRP_IMAGINGRXJ2129.7+0005_036',\n",
       "       'AUXTEL_DRP_IMAGINGRXJ2129.7+0005_037',\n",
       "       'AUXTEL_DRP_IMAGINGRXJ2129.7+0005_041',\n",
       "       'AUXTEL_DRP_IMAGINGRXJ2129.7+0005_042',\n",
       "       'AUXTEL_DRP_IMAGINGRXJ2129.7+0005_043',\n",
       "       'AUXTEL_DRP_IMAGINGRXJ2129.7+0005_049',\n",
       "       'AUXTEL_DRP_IMAGINGRXJ2129.7+0005_050',\n",
       "       'AUXTEL_DRP_IMAGINGRXJ2129.7+0005_064',\n",
       "       'AUXTEL_DRP_IMAGINGSDSS-J203722_001',\n",
       "       'AUXTEL_DRP_IMAGINGSDSS-J203722_002',\n",
       "       'AUXTEL_DRP_IMAGINGSDSS-J203722_003',\n",
       "       'AUXTEL_DRP_IMAGINGSDSS-J203722_004',\n",
       "       'AUXTEL_DRP_IMAGINGSDSS-J203722_005',\n",
       "       'AUXTEL_DRP_IMAGINGSDSS-J203722_006',\n",
       "       'AUXTEL_DRP_IMAGINGSDSS-J203722_007',\n",
       "       'AUXTEL_DRP_IMAGINGSDSS-J203722_008',\n",
       "       'AUXTEL_DRP_IMAGINGSDSS-J203722_009',\n",
       "       'AUXTEL_DRP_IMAGINGSDSS-J203722_010',\n",
       "       'AUXTEL_DRP_IMAGINGSDSS-J203722_011',\n",
       "       'AUXTEL_DRP_IMAGINGSDSS-J203722_012',\n",
       "       'AUXTEL_DRP_IMAGINGSDSS-J203722_013',\n",
       "       'AUXTEL_DRP_IMAGINGSDSS-J203722_014',\n",
       "       'AUXTEL_DRP_IMAGINGSDSS-J203722_015',\n",
       "       'AUXTEL_DRP_IMAGINGSDSS-J203722_016',\n",
       "       'AUXTEL_DRP_IMAGINGSDSS-J203722_019',\n",
       "       'AUXTEL_DRP_IMAGINGSDSS-J203722_020',\n",
       "       'AUXTEL_DRP_IMAGINGSDSS-J203722_021',\n",
       "       'AUXTEL_DRP_IMAGINGSDSS-J203722_022',\n",
       "       'AUXTEL_DRP_IMAGINGSDSS-J203722_023',\n",
       "       'AUXTEL_DRP_IMAGINGSDSS-J203722_024',\n",
       "       'AUXTEL_DRP_IMAGINGSDSS-J203722_029',\n",
       "       'AUXTEL_DRP_IMAGINGSDSS-J203722_030',\n",
       "       'AUXTEL_DRP_IMAGINGSDSS-J203722_031',\n",
       "       'AUXTEL_DRP_IMAGINGSDSS-J203722_057',\n",
       "       'AUXTEL_DRP_IMAGINGSDSS-J210150_001',\n",
       "       'AUXTEL_DRP_IMAGINGSDSS-J210150_002',\n",
       "       'AUXTEL_DRP_IMAGINGSDSS-J210150_003',\n",
       "       'AUXTEL_DRP_IMAGINGSDSS-J210150_004',\n",
       "       'AUXTEL_DRP_IMAGINGSDSS-J210150_005',\n",
       "       'AUXTEL_DRP_IMAGINGSDSS-J210150_009',\n",
       "       'AUXTEL_DRP_IMAGINGSDSS-J210150_010',\n",
       "       'AUXTEL_DRP_IMAGINGSDSS-J210150_011',\n",
       "       'AUXTEL_DRP_IMAGINGSDSS-J210150_012',\n",
       "       'AUXTEL_DRP_IMAGINGSDSS-J210150_013',\n",
       "       'AUXTEL_DRP_IMAGINGSDSS-J210150_014',\n",
       "       'AUXTEL_DRP_IMAGINGSDSS-J210150_015',\n",
       "       'AUXTEL_DRP_IMAGINGSDSS-J210150_017',\n",
       "       'AUXTEL_DRP_IMAGINGSDSS-J210150_018',\n",
       "       'AUXTEL_DRP_IMAGINGSDSS-J210150_019',\n",
       "       'AUXTEL_DRP_IMAGINGSDSS-J210150_020',\n",
       "       'AUXTEL_DRP_IMAGINGSDSS-J210150_021',\n",
       "       'AUXTEL_DRP_IMAGINGSDSS-J210150_025',\n",
       "       'AUXTEL_DRP_IMAGINGSDSS-J210150_026',\n",
       "       'AUXTEL_DRP_IMAGINGSDSS-J210150_027',\n",
       "       'AUXTEL_DRP_IMAGINGSDSS-J210150_028',\n",
       "       'AUXTEL_DRP_IMAGINGSDSS-J210150_033',\n",
       "       'AUXTEL_DRP_IMAGINGSDSS-J210150_034',\n",
       "       'AUXTEL_DRP_IMAGINGSDSS-J210150_035',\n",
       "       'AUXTEL_DRP_IMAGINGSDSS-J210150_041',\n",
       "       'AUXTEL_DRP_IMAGINGSDSS-J210150_057',\n",
       "       'AUXTEL_DRP_IMAGINGSPT-CL-J2040-5725_001',\n",
       "       'AUXTEL_DRP_IMAGINGSPT-CL-J2040-5725_002',\n",
       "       'AUXTEL_DRP_IMAGINGSPT-CL-J2040-5725_009',\n",
       "       'AUXTEL_DRP_IMAGINGSPT-CL-J2040-5725_010',\n",
       "       'AUXTEL_DRP_IMAGINGSPT-CL-J2040-5725_011',\n",
       "       'AUXTEL_DRP_IMAGINGSPT-CL-J2040-5725_017',\n",
       "       'AUXTEL_DRP_IMAGINGSPT-CL-J2040-5725_018',\n",
       "       'AUXTEL_DRP_IMAGINGSPT-CL-J2040-5725_019',\n",
       "       'AUXTEL_DRP_IMAGINGSPT-CL-J2040-5725_025',\n",
       "       'AUXTEL_DRP_IMAGINGSPT-CL-J2040-5725_026',\n",
       "       'AUXTEL_DRP_IMAGINGSPT-CL-J2040-5725_027',\n",
       "       'AUXTEL_DRP_IMAGINGSPT-CL-J2040-5725_028',\n",
       "       'AUXTEL_DRP_IMAGINGSPT-CL-J2040-5725_033',\n",
       "       'AUXTEL_DRP_IMAGINGSPT-CL-J2040-5725_034',\n",
       "       'AUXTEL_DRP_IMAGINGSPT-CL-J2040-5725_035',\n",
       "       'AUXTEL_DRP_IMAGINGSPT-CL-J2040-5725_036',\n",
       "       'AUXTEL_DRP_IMAGINGSPT-CL-J2040-5725_037',\n",
       "       'AUXTEL_DRP_IMAGINGSPT-CL-J2040-5725_041',\n",
       "       'AUXTEL_DRP_IMAGINGSPT-CL-J2040-5725_042',\n",
       "       'AUXTEL_DRP_IMAGINGSPT-CL-J2040-5725_043',\n",
       "       'AUXTEL_DRP_IMAGINGSPT-CL-J2040-5725_049',\n",
       "       'AUXTEL_DRP_IMAGINGSPT-CL-J2040-5725_050',\n",
       "       'AUXTEL_DRP_IMAGINGSPT-CL-J2040-5725_051',\n",
       "       'AUXTEL_DRP_IMAGINGSPT-CL-J2040-5725_057',\n",
       "       'AUXTEL_DRP_IMAGINGSPT-CL-J2040-5725_058',\n",
       "       'AUXTEL_DRP_IMAGINGSPT-CL-J2040-5725_064',\n",
       "       'AUXTEL_DRP_IMAGINGSPT-CL-J2106-5844_001',\n",
       "       'AUXTEL_DRP_IMAGINGSPT-CL-J2106-5844_002',\n",
       "       'AUXTEL_DRP_IMAGINGSPT-CL-J2106-5844_003',\n",
       "       'AUXTEL_DRP_IMAGINGSPT-CL-J2106-5844_004',\n",
       "       'AUXTEL_DRP_IMAGINGSPT-CL-J2106-5844_005',\n",
       "       'AUXTEL_DRP_IMAGINGSPT-CL-J2106-5844_006',\n",
       "       'AUXTEL_DRP_IMAGINGSPT-CL-J2106-5844_009',\n",
       "       'AUXTEL_DRP_IMAGINGSPT-CL-J2106-5844_010',\n",
       "       'AUXTEL_DRP_IMAGINGSPT-CL-J2106-5844_011',\n",
       "       'AUXTEL_DRP_IMAGINGSPT-CL-J2106-5844_012',\n",
       "       'AUXTEL_DRP_IMAGINGSPT-CL-J2106-5844_013',\n",
       "       'AUXTEL_DRP_IMAGINGSPT-CL-J2106-5844_017',\n",
       "       'AUXTEL_DRP_IMAGINGSPT-CL-J2106-5844_018',\n",
       "       'AUXTEL_DRP_IMAGINGSPT-CL-J2106-5844_019',\n",
       "       'AUXTEL_DRP_IMAGINGSPT-CL-J2106-5844_020',\n",
       "       'AUXTEL_DRP_IMAGINGSPT-CL-J2106-5844_021',\n",
       "       'AUXTEL_DRP_IMAGINGSPT-CL-J2106-5844_022',\n",
       "       'AUXTEL_DRP_IMAGINGSPT-CL-J2106-5844_025',\n",
       "       'AUXTEL_DRP_IMAGINGSPT-CL-J2106-5844_026',\n",
       "       'AUXTEL_DRP_IMAGINGSPT-CL-J2106-5844_027',\n",
       "       'AUXTEL_DRP_IMAGINGSPT-CL-J2106-5844_033',\n",
       "       'AUXTEL_DRP_IMAGINGSPT-CL-J2106-5844_034',\n",
       "       'AUXTEL_DRP_IMAGINGSPT-CL-J2106-5844_041',\n",
       "       'AUXTEL_DRP_IMAGINGSPT-CL-J2106-5844_042',\n",
       "       'AUXTEL_DRP_IMAGINGSPT-CL-J2106-5844_048',\n",
       "       'AUXTEL_DRP_IMAGINGSPT-CL-J2106-5844_049',\n",
       "       'AUXTEL_DRP_IMAGINGSPT-CL-J2106-5844_056',\n",
       "       'AUXTEL_DRP_IMAGINGSPT-CL-J2106-5844_057',\n",
       "       'AUXTEL_DRP_IMAGINGSPT-CL-J2106-5844_064',\n",
       "       'AUXTEL_DRP_IMAGINGTucana-IV_001',\n",
       "       'AUXTEL_DRP_IMAGINGTucana-IV_006',\n",
       "       'AUXTEL_DRP_IMAGINGTucana-IV_007',\n",
       "       'AUXTEL_DRP_IMAGINGTucana-IV_008',\n",
       "       'AUXTEL_DRP_IMAGINGTucana-IV_009',\n",
       "       'AUXTEL_DRP_IMAGINGTucana-IV_014',\n",
       "       'AUXTEL_DRP_IMAGINGTucana-IV_015',\n",
       "       'AUXTEL_DRP_IMAGINGTucana-IV_016',\n",
       "       'AUXTEL_DRP_IMAGINGTucana-IV_017',\n",
       "       'AUXTEL_DRP_IMAGINGTucana-IV_022',\n",
       "       'AUXTEL_DRP_IMAGINGTucana-IV_023',\n",
       "       'AUXTEL_DRP_IMAGINGTucana-IV_024',\n",
       "       'AUXTEL_DRP_IMAGINGTucana-IV_025',\n",
       "       'AUXTEL_DRP_IMAGINGTucana-IV_030',\n",
       "       'AUXTEL_DRP_IMAGINGTucana-IV_031',\n",
       "       'AUXTEL_DRP_IMAGINGTucana-IV_032',\n",
       "       'AUXTEL_DRP_IMAGINGTucana-IV_033',\n",
       "       'AUXTEL_DRP_IMAGINGTucana-IV_038',\n",
       "       'AUXTEL_DRP_IMAGINGTucana-IV_039',\n",
       "       'AUXTEL_DRP_IMAGINGTucana-IV_040',\n",
       "       'AUXTEL_DRP_IMAGINGTucana-IV_041',\n",
       "       'AUXTEL_DRP_IMAGINGTucana-IV_046',\n",
       "       'AUXTEL_DRP_IMAGINGTucana-IV_047',\n",
       "       'AUXTEL_DRP_IMAGINGTucana-IV_048',\n",
       "       'AUXTEL_DRP_IMAGINGTucana-IV_049',\n",
       "       'AUXTEL_DRP_IMAGINGTucana-IV_053',\n",
       "       'AUXTEL_DRP_IMAGINGTucana-IV_054',\n",
       "       'AUXTEL_DRP_IMAGINGTucana-IV_055',\n",
       "       'AUXTEL_DRP_IMAGINGTucana-IV_056',\n",
       "       'AUXTEL_DRP_IMAGINGTucana-IV_057',\n",
       "       'AUXTEL_DRP_IMAGINGTucana-IV_058',\n",
       "       'AUXTEL_DRP_IMAGINGTucana-IV_061',\n",
       "       'AUXTEL_DRP_IMAGINGTucana-IV_062',\n",
       "       'AUXTEL_DRP_IMAGINGTucana-IV_063',\n",
       "       'AUXTEL_DRP_IMAGINGTucana-IV_064',\n",
       "       'AUXTEL_DRP_IMAGINGWFI-2026-4536_001',\n",
       "       'AUXTEL_DRP_IMAGINGWFI-2026-4536_002',\n",
       "       'AUXTEL_DRP_IMAGINGWFI-2026-4536_003',\n",
       "       'AUXTEL_DRP_IMAGINGWFI-2026-4536_004',\n",
       "       'AUXTEL_DRP_IMAGINGWFI-2026-4536_009',\n",
       "       'AUXTEL_DRP_IMAGINGWFI-2026-4536_010',\n",
       "       'AUXTEL_DRP_IMAGINGWFI-2026-4536_011',\n",
       "       'AUXTEL_DRP_IMAGINGWFI-2026-4536_017',\n",
       "       'AUXTEL_DRP_IMAGINGWFI-2026-4536_018',\n",
       "       'AUXTEL_DRP_IMAGINGWFI-2026-4536_025',\n",
       "       'AUXTEL_DRP_IMAGINGWFI-2026-4536_026',\n",
       "       'AUXTEL_DRP_IMAGINGWFI-2026-4536_030',\n",
       "       'AUXTEL_DRP_IMAGINGWFI-2026-4536_031',\n",
       "       'AUXTEL_DRP_IMAGINGWFI-2026-4536_032',\n",
       "       'AUXTEL_DRP_IMAGINGWFI-2026-4536_038',\n",
       "       'AUXTEL_DRP_IMAGINGWFI-2026-4536_039',\n",
       "       'AUXTEL_DRP_IMAGINGWFI-2026-4536_040',\n",
       "       'AUXTEL_DRP_IMAGINGWFI-2026-4536_045',\n",
       "       'AUXTEL_DRP_IMAGINGWFI-2026-4536_046',\n",
       "       'AUXTEL_DRP_IMAGINGWFI-2026-4536_047',\n",
       "       'AUXTEL_DRP_IMAGINGWFI-2026-4536_048',\n",
       "       'AUXTEL_DRP_IMAGINGWFI-2026-4536_053',\n",
       "       'AUXTEL_DRP_IMAGINGWFI-2026-4536_054',\n",
       "       'AUXTEL_DRP_IMAGINGWFI-2026-4536_055',\n",
       "       'AUXTEL_DRP_IMAGINGWFI-2026-4536_056',\n",
       "       'AUXTEL_DRP_IMAGINGWFI-2026-4536_061',\n",
       "       'AUXTEL_DRP_IMAGINGWFI-2026-4536_062',\n",
       "       'AUXTEL_DRP_IMAGINGWFI-2026-4536_063',\n",
       "       'AUXTEL_DRP_IMAGINGWFI-2026-4536_064', 'LATISS_POLE001',\n",
       "       'LATISS_POLE002', 'LATISS_POLE003', 'LATISS_POLE004',\n",
       "       'LATISS_POLE005', 'LATISS_POLE006', 'LATISS_POLE007',\n",
       "       'LATISS_POLE008', 'LATISS_POLE009', 'LATISS_POLE010',\n",
       "       'LATISS_POLE011'], dtype='<U40')"
      ]
     },
     "execution_count": 13,
     "metadata": {},
     "output_type": "execute_result"
    }
   ],
   "source": [
    "np.unique(completed_obs['note'])"
   ]
  },
  {
   "cell_type": "code",
   "execution_count": 14,
   "id": "dbdf9b80",
   "metadata": {},
   "outputs": [
    {
     "data": {
      "text/plain": [
       "[<matplotlib.lines.Line2D at 0x13e99e200>]"
      ]
     },
     "execution_count": 14,
     "metadata": {},
     "output_type": "execute_result"
    },
    {
     "data": {
      "image/png": "[encoded data removed]",
      "text/plain": [
       "<Figure size 640x480 with 1 Axes>"
      ]
     },
     "metadata": {},
     "output_type": "display_data"
    }
   ],
   "source": [
    "plt.plot(np.degrees(obs['RA']), np.degrees(obs['dec']), 'ko')"
   ]
  },
  {
   "cell_type": "code",
   "execution_count": 15,
   "id": "d8d6a52c",
   "metadata": {},
   "outputs": [],
   "source": [
    "file = open('save_test.pkl', 'wb')\n",
    "pickle.dump(sched, file)\n",
    "file.close()"
   ]
  },
  {
   "cell_type": "code",
   "execution_count": 16,
   "id": "57a2c363",
   "metadata": {},
   "outputs": [
    {
     "name": "stdout",
     "output_type": "stream",
     "text": [
      "-rw-r--r--  1 yoachim  staff   3.4M Sep 21 16:46 save_test.pkl\n"
     ]
    }
   ],
   "source": [
    "from subprocess import Popen\n",
    "ack = Popen(['ls -lh *.pkl'], shell=True)"
   ]
  },
  {
   "cell_type": "code",
   "execution_count": 19,
   "id": "83fb320b",
   "metadata": {},
   "outputs": [
    {
     "data": {
      "text/plain": [
       "<matplotlib.collections.PathCollection at 0x13f9748b0>"
      ]
     },
     "execution_count": 19,
     "metadata": {},
     "output_type": "execute_result"
    },
    {
     "data": {
      "image/png": "[encoded data removed]",
      "text/plain": [
       "<Figure size 640x480 with 1 Axes>"
      ]
     },
     "metadata": {},
     "output_type": "display_data"
    }
   ],
   "source": [
    "plt.scatter(completed_obs['RA'], completed_obs['dec'], c=completed_obs['mjd'], alpha=0.1)"
   ]
  },
  {
   "cell_type": "code",
   "execution_count": null,
   "id": "957e5f13",
   "metadata": {},
   "outputs": [],
   "source": []
  }
 ],
 "metadata": {
  "kernelspec": {
   "display_name": "Python 3 (ipykernel)",
   "language": "python",
   "name": "python3"
  },
  "language_info": {
   "codemirror_mode": {
    "name": "ipython",
    "version": 3
   },
   "file_extension": ".py",
   "mimetype": "text/x-python",
   "name": "python",
   "nbconvert_exporter": "python",
   "pygments_lexer": "ipython3",
   "version": "3.10.6"
  }
 },
 "nbformat": 4,
 "nbformat_minor": 5
}
