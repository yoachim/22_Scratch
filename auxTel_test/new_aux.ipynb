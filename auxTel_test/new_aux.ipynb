{
 "cells": [
  {
   "cell_type": "code",
   "execution_count": 1,
   "id": "f5fede72",
   "metadata": {},
   "outputs": [],
   "source": [
    "import numpy as np\n",
    "import matplotlib.pylab as plt\n",
    "%matplotlib inline\n",
    "import healpy as hp\n",
    "from rubin_sim.utils import healbin\n",
    "import pandas as pd\n",
    "from rubin_sim.scheduler.utils import empty_observation\n",
    "from astropy import units\n",
    "from astropy.coordinates import Angle\n",
    "from pointing_survey import PointingsSurvey\n",
    "from rubin_sim.scheduler.schedulers import CoreScheduler\n",
    "from rubin_sim.scheduler import sim_runner\n",
    "from rubin_sim.scheduler.model_observatory import ModelObservatory\n",
    "\n",
    "from rubin_sim.scheduler.surveys import BaseSurvey\n",
    "from rubin_sim.scheduler.utils import empty_observation\n",
    "\n",
    "import pickle"
   ]
  },
  {
   "cell_type": "code",
   "execution_count": 2,
   "id": "53da9f1a",
   "metadata": {},
   "outputs": [],
   "source": [
    "tiles = pd.read_csv('/Users/yoachim/git_repos/ts_fbs_utils/python/lsst/ts/fbs/utils/data/auxtel_tiles.txt', delimiter=' ')"
   ]
  },
  {
   "cell_type": "code",
   "execution_count": 3,
   "id": "f29540cd",
   "metadata": {},
   "outputs": [
    {
     "data": {
      "text/html": [
       "<div>\n",
       "<style scoped>\n",
       "    .dataframe tbody tr th:only-of-type {\n",
       "        vertical-align: middle;\n",
       "    }\n",
       "\n",
       "    .dataframe tbody tr th {\n",
       "        vertical-align: top;\n",
       "    }\n",
       "\n",
       "    .dataframe thead th {\n",
       "        text-align: right;\n",
       "    }\n",
       "</style>\n",
       "<table border=\"1\" class=\"dataframe\">\n",
       "  <thead>\n",
       "    <tr style=\"text-align: right;\">\n",
       "      <th></th>\n",
       "      <th>Survey</th>\n",
       "      <th>Name</th>\n",
       "      <th>RA</th>\n",
       "      <th>Dec</th>\n",
       "    </tr>\n",
       "  </thead>\n",
       "  <tbody>\n",
       "    <tr>\n",
       "      <th>0</th>\n",
       "      <td>LATISS_POLE</td>\n",
       "      <td>001</td>\n",
       "      <td>00:00:00.00</td>\n",
       "      <td>-89:53:48.23</td>\n",
       "    </tr>\n",
       "    <tr>\n",
       "      <th>1</th>\n",
       "      <td>LATISS_POLE</td>\n",
       "      <td>002</td>\n",
       "      <td>02:10:54.54</td>\n",
       "      <td>-89:53:48.23</td>\n",
       "    </tr>\n",
       "    <tr>\n",
       "      <th>2</th>\n",
       "      <td>LATISS_POLE</td>\n",
       "      <td>003</td>\n",
       "      <td>04:21:49.09</td>\n",
       "      <td>-89:53:48.23</td>\n",
       "    </tr>\n",
       "    <tr>\n",
       "      <th>3</th>\n",
       "      <td>LATISS_POLE</td>\n",
       "      <td>004</td>\n",
       "      <td>06:32:43.63</td>\n",
       "      <td>-89:53:48.23</td>\n",
       "    </tr>\n",
       "    <tr>\n",
       "      <th>4</th>\n",
       "      <td>LATISS_POLE</td>\n",
       "      <td>005</td>\n",
       "      <td>08:43:38.18</td>\n",
       "      <td>-89:53:48.23</td>\n",
       "    </tr>\n",
       "    <tr>\n",
       "      <th>...</th>\n",
       "      <td>...</td>\n",
       "      <td>...</td>\n",
       "      <td>...</td>\n",
       "      <td>...</td>\n",
       "    </tr>\n",
       "    <tr>\n",
       "      <th>730</th>\n",
       "      <td>AUXTEL_DRP_IMAGING</td>\n",
       "      <td>HS2027+0651_060</td>\n",
       "      <td>20:29:09.76</td>\n",
       "      <td>+07:18:03.14</td>\n",
       "    </tr>\n",
       "    <tr>\n",
       "      <th>731</th>\n",
       "      <td>AUXTEL_DRP_IMAGING</td>\n",
       "      <td>HS2027+0651_061</td>\n",
       "      <td>20:29:32.50</td>\n",
       "      <td>+07:18:03.14</td>\n",
       "    </tr>\n",
       "    <tr>\n",
       "      <th>732</th>\n",
       "      <td>AUXTEL_DRP_IMAGING</td>\n",
       "      <td>HS2027+0651_062</td>\n",
       "      <td>20:29:55.24</td>\n",
       "      <td>+07:18:03.14</td>\n",
       "    </tr>\n",
       "    <tr>\n",
       "      <th>733</th>\n",
       "      <td>AUXTEL_DRP_IMAGING</td>\n",
       "      <td>HS2027+0651_063</td>\n",
       "      <td>20:30:17.97</td>\n",
       "      <td>+07:18:03.14</td>\n",
       "    </tr>\n",
       "    <tr>\n",
       "      <th>734</th>\n",
       "      <td>AUXTEL_DRP_IMAGING</td>\n",
       "      <td>HS2027+0651_064</td>\n",
       "      <td>20:30:40.71</td>\n",
       "      <td>+07:18:03.14</td>\n",
       "    </tr>\n",
       "  </tbody>\n",
       "</table>\n",
       "<p>735 rows × 4 columns</p>\n",
       "</div>"
      ],
      "text/plain": [
       "                 Survey             Name           RA           Dec\n",
       "0           LATISS_POLE              001  00:00:00.00  -89:53:48.23\n",
       "1           LATISS_POLE              002  02:10:54.54  -89:53:48.23\n",
       "2           LATISS_POLE              003  04:21:49.09  -89:53:48.23\n",
       "3           LATISS_POLE              004  06:32:43.63  -89:53:48.23\n",
       "4           LATISS_POLE              005  08:43:38.18  -89:53:48.23\n",
       "..                  ...              ...          ...           ...\n",
       "730  AUXTEL_DRP_IMAGING  HS2027+0651_060  20:29:09.76  +07:18:03.14\n",
       "731  AUXTEL_DRP_IMAGING  HS2027+0651_061  20:29:32.50  +07:18:03.14\n",
       "732  AUXTEL_DRP_IMAGING  HS2027+0651_062  20:29:55.24  +07:18:03.14\n",
       "733  AUXTEL_DRP_IMAGING  HS2027+0651_063  20:30:17.97  +07:18:03.14\n",
       "734  AUXTEL_DRP_IMAGING  HS2027+0651_064  20:30:40.71  +07:18:03.14\n",
       "\n",
       "[735 rows x 4 columns]"
      ]
     },
     "execution_count": 3,
     "metadata": {},
     "output_type": "execute_result"
    }
   ],
   "source": [
    "tiles"
   ]
  },
  {
   "cell_type": "code",
   "execution_count": null,
   "id": "1afc3965",
   "metadata": {},
   "outputs": [],
   "source": []
  },
  {
   "cell_type": "code",
   "execution_count": 4,
   "id": "9279d8a0",
   "metadata": {},
   "outputs": [],
   "source": [
    "obs = empty_observation()\n",
    "obs = np.zeros(tiles['Survey'].size, dtype=obs.dtype)"
   ]
  },
  {
   "cell_type": "code",
   "execution_count": null,
   "id": "36150d52",
   "metadata": {},
   "outputs": [],
   "source": []
  },
  {
   "cell_type": "code",
   "execution_count": 5,
   "id": "15e4bbc4",
   "metadata": {},
   "outputs": [],
   "source": [
    "obs['note'] = tiles['Survey'] + tiles['Name']\n",
    "obs['RA'] = Angle(tiles['RA'],unit=units.hourangle).rad\n",
    "obs['dec'] = Angle(tiles['Dec'],unit=units.degree).rad\n",
    "\n",
    "obs['flush_by_mjd'] = 0.\n",
    "obs['nexp'] = 1\n",
    "obs['filter'] = 'r'\n",
    "obs['exptime'] = 60.\n",
    "# obs['rotSkyPos'] = np.nan"
   ]
  },
  {
   "cell_type": "code",
   "execution_count": 6,
   "id": "554cfe6d",
   "metadata": {},
   "outputs": [],
   "source": [
    "# Make a scheduler with one survey object. Dumpign all the pointings in.\n",
    "# Of course, we could divide them up into different survey objects if that was handy.\n",
    "ps = PointingsSurvey(obs)\n",
    "sched = CoreScheduler([ps])"
   ]
  },
  {
   "cell_type": "code",
   "execution_count": 7,
   "id": "48fe251f",
   "metadata": {},
   "outputs": [
    {
     "name": "stdout",
     "output_type": "stream",
     "text": [
      "-90.0\n",
      "90.0\n"
     ]
    }
   ],
   "source": [
    "mo = ModelObservatory()\n",
    "\n",
    "# Let's change the limits on the rotator \n",
    "print(np.degrees(mo.observatory.telrot_minpos_rad))\n",
    "print(np.degrees(mo.observatory.telrot_maxpos_rad))\n"
   ]
  },
  {
   "cell_type": "code",
   "execution_count": 8,
   "id": "9d723abc",
   "metadata": {},
   "outputs": [],
   "source": [
    "# Let's change the limits on the rotator \n",
    "\n",
    "# XXX--need to work out a better detailer to handle this.\n",
    "mo.observatory.telrot_minpos_rad = np.radians(-360)\n",
    "mo.observatory.telrot_maxpos_rad = np.radians(360)\n"
   ]
  },
  {
   "cell_type": "code",
   "execution_count": 9,
   "id": "635902c7",
   "metadata": {},
   "outputs": [
    {
     "name": "stdout",
     "output_type": "stream",
     "text": [
      "[191.73388]\n",
      "[0.40958968]\n"
     ]
    },
    {
     "name": "stderr",
     "output_type": "stream",
     "text": [
      "/Users/yoachim/git_repos/22_Scratch/auxTel_test/pointing_survey.py:189: RuntimeWarning: invalid value encountered in divide\n",
      "  result = np.floor(1.+self.n_obs/sum_obs)\n"
     ]
    }
   ],
   "source": [
    "conditions = mo.return_conditions()\n",
    "ack = ps.generate_observations(conditions)\n",
    "ack\n",
    "print(np.degrees(ack[0]['rotSkyPos_desired']))\n",
    "print(ack[0]['rotTelPos'])"
   ]
  },
  {
   "cell_type": "code",
   "execution_count": 10,
   "id": "9314abd9",
   "metadata": {},
   "outputs": [
    {
     "name": "stdout",
     "output_type": "stream",
     "text": [
      "progress = 99.49%Skipped 0 observations\n",
      "Flushed 0 observations from queue for being stale\n",
      "Completed 1254 observations\n",
      "ran in 0 min = 0.0 hours\n"
     ]
    },
    {
     "name": "stderr",
     "output_type": "stream",
     "text": [
      "/Users/yoachim/git_repos/rubin_sim/rubin_sim/skybrightness_pre/sky_model_pre.py:272: UserWarning: Requested MJD between sunrise and sunset, returning closest maps\n",
      "  warnings.warn(\n"
     ]
    }
   ],
   "source": [
    "mo, sched, completed_obs = sim_runner(mo, sched, survey_length=3)\n"
   ]
  },
  {
   "cell_type": "code",
   "execution_count": null,
   "id": "0909a202",
   "metadata": {},
   "outputs": [],
   "source": []
  },
  {
   "cell_type": "code",
   "execution_count": null,
   "id": "fa34d654",
   "metadata": {},
   "outputs": [],
   "source": []
  },
  {
   "cell_type": "code",
   "execution_count": 11,
   "id": "dbdf9b80",
   "metadata": {},
   "outputs": [
    {
     "data": {
      "text/plain": [
       "[<matplotlib.lines.Line2D at 0x158340fd0>]"
      ]
     },
     "execution_count": 11,
     "metadata": {},
     "output_type": "execute_result"
    },
    {
     "data": {
      "image/png": "[encoded data removed]",
      "text/plain": [
       "<Figure size 640x480 with 1 Axes>"
      ]
     },
     "metadata": {},
     "output_type": "display_data"
    }
   ],
   "source": [
    "plt.plot(np.degrees(obs['RA']), np.degrees(obs['dec']), 'ko')"
   ]
  },
  {
   "cell_type": "code",
   "execution_count": 12,
   "id": "d8d6a52c",
   "metadata": {},
   "outputs": [],
   "source": [
    "file = open('save_test.pkl', 'wb')\n",
    "pickle.dump(sched, file)\n",
    "file.close()"
   ]
  },
  {
   "cell_type": "code",
   "execution_count": 13,
   "id": "57a2c363",
   "metadata": {},
   "outputs": [
    {
     "data": {
      "text/plain": [
       "<Popen: returncode: None args: 'ls -lh *.pkl'>"
      ]
     },
     "execution_count": 13,
     "metadata": {},
     "output_type": "execute_result"
    }
   ],
   "source": [
    "# How large is it to save this thing\n",
    "from subprocess import Popen\n",
    "Popen('ls -lh *.pkl', shell=True)"
   ]
  },
  {
   "cell_type": "code",
   "execution_count": 14,
   "id": "83fb320b",
   "metadata": {},
   "outputs": [
    {
     "name": "stdout",
     "output_type": "stream",
     "text": [
      "-rw-r--r--  1 yoachim  staff   3.1M Mar 22 09:22 save_test.pkl\n"
     ]
    },
    {
     "data": {
      "text/plain": [
       "Text(0, 0.5, 'Dec')"
      ]
     },
     "execution_count": 14,
     "metadata": {},
     "output_type": "execute_result"
    },
    {
     "data": {
      "image/png": "[encoded data removed]",
      "text/plain": [
       "<Figure size 640x480 with 2 Axes>"
      ]
     },
     "metadata": {},
     "output_type": "display_data"
    }
   ],
   "source": [
    "plt.scatter(np.degrees(completed_obs['RA']), np.degrees(completed_obs['dec']),\n",
    "            c=completed_obs['mjd']-completed_obs['mjd'].min(), alpha=0.1)\n",
    "cb = plt.colorbar()\n",
    "cb.set_label('Night')\n",
    "plt.xlabel('RA')\n",
    "plt.ylabel('Dec')"
   ]
  },
  {
   "cell_type": "code",
   "execution_count": 15,
   "id": "957e5f13",
   "metadata": {},
   "outputs": [
    {
     "data": {
      "text/plain": [
       "array([195.23899786, 194.92732866, 195.31368677, ..., 189.5447166 ,\n",
       "       189.03960565, 188.23445528])"
      ]
     },
     "execution_count": 15,
     "metadata": {},
     "output_type": "execute_result"
    }
   ],
   "source": [
    "np.degrees(completed_obs[\"rotSkyPos\"])"
   ]
  },
  {
   "cell_type": "code",
   "execution_count": 16,
   "id": "aa7c2839",
   "metadata": {},
   "outputs": [
    {
     "data": {
      "text/plain": [
       "array([195.23899786, 194.92732866, 195.31368677, ..., 189.5447166 ,\n",
       "       189.03960565, 188.23445528])"
      ]
     },
     "execution_count": 16,
     "metadata": {},
     "output_type": "execute_result"
    }
   ],
   "source": [
    "np.degrees(completed_obs[\"pa\"])"
   ]
  },
  {
   "cell_type": "code",
   "execution_count": 17,
   "id": "54809050",
   "metadata": {},
   "outputs": [
    {
     "data": {
      "text/plain": [
       "array([30.47799573, 29.85465732, 30.62737354, ..., 19.0894332 ,\n",
       "       18.07921131, 16.46891055])"
      ]
     },
     "execution_count": 17,
     "metadata": {},
     "output_type": "execute_result"
    }
   ],
   "source": [
    "np.degrees(completed_obs[\"rotTelPos\"])"
   ]
  },
  {
   "cell_type": "code",
   "execution_count": null,
   "id": "7b43f1dc",
   "metadata": {},
   "outputs": [],
   "source": []
  },
  {
   "cell_type": "code",
   "execution_count": 18,
   "id": "3280bd30",
   "metadata": {},
   "outputs": [
    {
     "data": {
      "text/plain": [
       "array([3.40756334, 3.40212369, 3.40886691, ..., 3.30817938, 3.29936354,\n",
       "       3.28531101])"
      ]
     },
     "execution_count": 18,
     "metadata": {},
     "output_type": "execute_result"
    }
   ],
   "source": [
    "(completed_obs[\"rotTelPos\"] - completed_obs[\"pa\"] + 2*np.pi) % (2*np.pi)"
   ]
  },
  {
   "cell_type": "code",
   "execution_count": 19,
   "id": "1b3e67f7",
   "metadata": {},
   "outputs": [
    {
     "data": {
      "text/plain": [
       "array([3.40756334, 3.40212369, 3.40886691, ..., 3.30817938, 3.29936354,\n",
       "       3.28531101])"
      ]
     },
     "execution_count": 19,
     "metadata": {},
     "output_type": "execute_result"
    }
   ],
   "source": [
    "completed_obs[\"rotSkyPos\"]"
   ]
  },
  {
   "cell_type": "code",
   "execution_count": null,
   "id": "24ed994b",
   "metadata": {},
   "outputs": [],
   "source": []
  },
  {
   "cell_type": "code",
   "execution_count": 20,
   "id": "ea4e3b7b",
   "metadata": {},
   "outputs": [
    {
     "data": {
      "text/plain": [
       "4.565085860751619"
      ]
     },
     "execution_count": 20,
     "metadata": {},
     "output_type": "execute_result"
    }
   ],
   "source": [
    "np.degrees(completed_obs[\"rotSkyPos\"]).min()"
   ]
  },
  {
   "cell_type": "code",
   "execution_count": null,
   "id": "91aeabd8",
   "metadata": {},
   "outputs": [],
   "source": []
  }
 ],
 "metadata": {
  "kernelspec": {
   "display_name": "Python 3 (ipykernel)",
   "language": "python",
   "name": "python3"
  },
  "language_info": {
   "codemirror_mode": {
    "name": "ipython",
    "version": 3
   },
   "file_extension": ".py",
   "mimetype": "text/x-python",
   "name": "python",
   "nbconvert_exporter": "python",
   "pygments_lexer": "ipython3",
   "version": "3.11.0"
  }
 },
 "nbformat": 4,
 "nbformat_minor": 5
}
