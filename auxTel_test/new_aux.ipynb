{
 "cells": [
  {
   "cell_type": "code",
   "execution_count": 1,
   "id": "f5fede72",
   "metadata": {},
   "outputs": [],
   "source": [
    "import numpy as np\n",
    "import matplotlib.pylab as plt\n",
    "%matplotlib inline\n",
    "import healpy as hp\n",
    "from rubin_sim.utils import healbin\n",
    "import pandas as pd\n",
    "from rubin_sim.scheduler.utils import empty_observation\n",
    "from astropy import units\n",
    "from astropy.coordinates import Angle\n",
    "from pointing_survey import PointingsSurvey\n",
    "from rubin_sim.scheduler.schedulers import Core_scheduler\n",
    "from rubin_sim.scheduler import sim_runner\n",
    "from rubin_sim.scheduler.modelObservatory import Model_observatory\n",
    "\n",
    "from rubin_sim.scheduler.surveys import BaseSurvey\n",
    "from rubin_sim.scheduler.utils import empty_observation\n",
    "\n",
    "import pickle"
   ]
  },
  {
   "cell_type": "code",
   "execution_count": 2,
   "id": "53da9f1a",
   "metadata": {},
   "outputs": [],
   "source": [
    "tiles = pd.read_csv('/Users/yoachim/git_repos/ts_fbs_utils/python/lsst/ts/fbs/utils/data/auxtel_tiles.txt', delimiter=' ')"
   ]
  },
  {
   "cell_type": "code",
   "execution_count": 3,
   "id": "f29540cd",
   "metadata": {},
   "outputs": [
    {
     "data": {
      "text/html": [
       "<div>\n",
       "<style scoped>\n",
       "    .dataframe tbody tr th:only-of-type {\n",
       "        vertical-align: middle;\n",
       "    }\n",
       "\n",
       "    .dataframe tbody tr th {\n",
       "        vertical-align: top;\n",
       "    }\n",
       "\n",
       "    .dataframe thead th {\n",
       "        text-align: right;\n",
       "    }\n",
       "</style>\n",
       "<table border=\"1\" class=\"dataframe\">\n",
       "  <thead>\n",
       "    <tr style=\"text-align: right;\">\n",
       "      <th></th>\n",
       "      <th>Survey</th>\n",
       "      <th>Name</th>\n",
       "      <th>RA</th>\n",
       "      <th>Dec</th>\n",
       "    </tr>\n",
       "  </thead>\n",
       "  <tbody>\n",
       "    <tr>\n",
       "      <th>0</th>\n",
       "      <td>LATISS_POLE</td>\n",
       "      <td>001</td>\n",
       "      <td>00:00:00.00</td>\n",
       "      <td>-89:53:48.23</td>\n",
       "    </tr>\n",
       "    <tr>\n",
       "      <th>1</th>\n",
       "      <td>LATISS_POLE</td>\n",
       "      <td>002</td>\n",
       "      <td>02:10:54.54</td>\n",
       "      <td>-89:53:48.23</td>\n",
       "    </tr>\n",
       "    <tr>\n",
       "      <th>2</th>\n",
       "      <td>LATISS_POLE</td>\n",
       "      <td>003</td>\n",
       "      <td>04:21:49.09</td>\n",
       "      <td>-89:53:48.23</td>\n",
       "    </tr>\n",
       "    <tr>\n",
       "      <th>3</th>\n",
       "      <td>LATISS_POLE</td>\n",
       "      <td>004</td>\n",
       "      <td>06:32:43.63</td>\n",
       "      <td>-89:53:48.23</td>\n",
       "    </tr>\n",
       "    <tr>\n",
       "      <th>4</th>\n",
       "      <td>LATISS_POLE</td>\n",
       "      <td>005</td>\n",
       "      <td>08:43:38.18</td>\n",
       "      <td>-89:53:48.23</td>\n",
       "    </tr>\n",
       "    <tr>\n",
       "      <th>...</th>\n",
       "      <td>...</td>\n",
       "      <td>...</td>\n",
       "      <td>...</td>\n",
       "      <td>...</td>\n",
       "    </tr>\n",
       "    <tr>\n",
       "      <th>1626</th>\n",
       "      <td>AUXTEL_DRP_IMAGING</td>\n",
       "      <td>A2390_060</td>\n",
       "      <td>21:53:13.25</td>\n",
       "      <td>+17:58:37.05</td>\n",
       "    </tr>\n",
       "    <tr>\n",
       "      <th>1627</th>\n",
       "      <td>AUXTEL_DRP_IMAGING</td>\n",
       "      <td>A2390_061</td>\n",
       "      <td>21:53:36.96</td>\n",
       "      <td>+17:58:37.05</td>\n",
       "    </tr>\n",
       "    <tr>\n",
       "      <th>1628</th>\n",
       "      <td>AUXTEL_DRP_IMAGING</td>\n",
       "      <td>A2390_062</td>\n",
       "      <td>21:54:00.67</td>\n",
       "      <td>+17:58:37.05</td>\n",
       "    </tr>\n",
       "    <tr>\n",
       "      <th>1629</th>\n",
       "      <td>AUXTEL_DRP_IMAGING</td>\n",
       "      <td>A2390_063</td>\n",
       "      <td>21:54:24.38</td>\n",
       "      <td>+17:58:37.05</td>\n",
       "    </tr>\n",
       "    <tr>\n",
       "      <th>1630</th>\n",
       "      <td>AUXTEL_DRP_IMAGING</td>\n",
       "      <td>A2390_064</td>\n",
       "      <td>21:54:48.09</td>\n",
       "      <td>+17:58:37.05</td>\n",
       "    </tr>\n",
       "  </tbody>\n",
       "</table>\n",
       "<p>1631 rows × 4 columns</p>\n",
       "</div>"
      ],
      "text/plain": [
       "                  Survey       Name           RA           Dec\n",
       "0            LATISS_POLE        001  00:00:00.00  -89:53:48.23\n",
       "1            LATISS_POLE        002  02:10:54.54  -89:53:48.23\n",
       "2            LATISS_POLE        003  04:21:49.09  -89:53:48.23\n",
       "3            LATISS_POLE        004  06:32:43.63  -89:53:48.23\n",
       "4            LATISS_POLE        005  08:43:38.18  -89:53:48.23\n",
       "...                  ...        ...          ...           ...\n",
       "1626  AUXTEL_DRP_IMAGING  A2390_060  21:53:13.25  +17:58:37.05\n",
       "1627  AUXTEL_DRP_IMAGING  A2390_061  21:53:36.96  +17:58:37.05\n",
       "1628  AUXTEL_DRP_IMAGING  A2390_062  21:54:00.67  +17:58:37.05\n",
       "1629  AUXTEL_DRP_IMAGING  A2390_063  21:54:24.38  +17:58:37.05\n",
       "1630  AUXTEL_DRP_IMAGING  A2390_064  21:54:48.09  +17:58:37.05\n",
       "\n",
       "[1631 rows x 4 columns]"
      ]
     },
     "execution_count": 3,
     "metadata": {},
     "output_type": "execute_result"
    }
   ],
   "source": [
    "tiles"
   ]
  },
  {
   "cell_type": "code",
   "execution_count": null,
   "id": "1afc3965",
   "metadata": {},
   "outputs": [],
   "source": []
  },
  {
   "cell_type": "code",
   "execution_count": 4,
   "id": "9279d8a0",
   "metadata": {},
   "outputs": [],
   "source": [
    "obs = empty_observation()\n",
    "obs = np.zeros(tiles['Survey'].size, dtype=obs.dtype)"
   ]
  },
  {
   "cell_type": "code",
   "execution_count": null,
   "id": "36150d52",
   "metadata": {},
   "outputs": [],
   "source": []
  },
  {
   "cell_type": "code",
   "execution_count": 5,
   "id": "15e4bbc4",
   "metadata": {},
   "outputs": [],
   "source": [
    "obs['note'] = tiles['Survey'] + tiles['Name']\n",
    "obs['RA'] = Angle(tiles['RA'],unit=units.hourangle).rad\n",
    "obs['dec'] = Angle(tiles['Dec'],unit=units.degree).rad\n",
    "\n",
    "obs['flush_by_mjd'] = 0.\n",
    "obs['nexp'] = 1\n",
    "obs['filter'] = 'r'\n",
    "obs['exptime'] = 60.\n",
    "# obs['rotSkyPos'] = np.nan"
   ]
  },
  {
   "cell_type": "code",
   "execution_count": 6,
   "id": "554cfe6d",
   "metadata": {},
   "outputs": [],
   "source": [
    "# Make a scheduler with one survey object. Dumpign all the pointings in.\n",
    "# Of course, we could divide them up into different survey objects if that was handy.\n",
    "ps = PointingsSurvey(obs)\n",
    "sched = Core_scheduler([ps])"
   ]
  },
  {
   "cell_type": "code",
   "execution_count": 7,
   "id": "48fe251f",
   "metadata": {},
   "outputs": [
    {
     "name": "stderr",
     "output_type": "stream",
     "text": [
      "WARNING: TimeDeltaMissingUnitWarning: Numerical value without unit or explicit format passed to TimeDelta, assuming days [astropy.time.core]\n"
     ]
    }
   ],
   "source": [
    "mo = Model_observatory()"
   ]
  },
  {
   "cell_type": "code",
   "execution_count": 8,
   "id": "635902c7",
   "metadata": {},
   "outputs": [
    {
     "name": "stderr",
     "output_type": "stream",
     "text": [
      "/Users/yoachim/git_repos/22_Scratch/auxTel_test/pointing_survey.py:141: RuntimeWarning: invalid value encountered in true_divide\n",
      "  result = np.floor(1.+self.n_obs/sum_obs)\n"
     ]
    },
    {
     "data": {
      "text/plain": [
       "[array([(0, 5.39245725, -0.08614068, 0., 0., 60., 'r', 0., 0., 1, 0., 0., 0., 0., 0., 0, 0., 0., 0., 0., 0., 0., 0., 0., 0., 0., 'AUXTEL_DRP_IMAGINGSDSS-J203722_057', 0, 0, 0, 0., 0., 0., 0., 0., 0., 0., 0., 0., 0., 0., 0., 0., 0)],\n",
       "       dtype=[('ID', '<i8'), ('RA', '<f8'), ('dec', '<f8'), ('mjd', '<f8'), ('flush_by_mjd', '<f8'), ('exptime', '<f8'), ('filter', '<U1'), ('rotSkyPos', '<f8'), ('rotSkyPos_desired', '<f8'), ('nexp', '<i8'), ('airmass', '<f8'), ('FWHM_500', '<f8'), ('FWHMeff', '<f8'), ('FWHM_geometric', '<f8'), ('skybrightness', '<f8'), ('night', '<i8'), ('slewtime', '<f8'), ('visittime', '<f8'), ('slewdist', '<f8'), ('fivesigmadepth', '<f8'), ('alt', '<f8'), ('az', '<f8'), ('pa', '<f8'), ('clouds', '<f8'), ('moonAlt', '<f8'), ('sunAlt', '<f8'), ('note', '<U40'), ('field_id', '<i8'), ('survey_id', '<i8'), ('block_id', '<i8'), ('lmst', '<f8'), ('rotTelPos', '<f8'), ('rotTelPos_backup', '<f8'), ('moonAz', '<f8'), ('sunAz', '<f8'), ('sunRA', '<f8'), ('sunDec', '<f8'), ('moonRA', '<f8'), ('moonDec', '<f8'), ('moonDist', '<f8'), ('solarElong', '<f8'), ('moonPhase', '<f8'), ('cummTelAz', '<f8'), ('scripted_id', '<i8')])]"
      ]
     },
     "execution_count": 8,
     "metadata": {},
     "output_type": "execute_result"
    }
   ],
   "source": [
    "conditions = mo.return_conditions()\n",
    "ack = ps.generate_observations(conditions)\n",
    "ack"
   ]
  },
  {
   "cell_type": "code",
   "execution_count": 9,
   "id": "9314abd9",
   "metadata": {},
   "outputs": [
    {
     "name": "stdout",
     "output_type": "stream",
     "text": [
      "progress = 99.49%"
     ]
    },
    {
     "name": "stderr",
     "output_type": "stream",
     "text": [
      "/Users/yoachim/git_repos/rubin_sim/rubin_sim/skybrightness_pre/SkyModelPre.py:272: UserWarning: Requested MJD between sunrise and sunset, returning closest maps\n",
      "  warnings.warn(\n"
     ]
    },
    {
     "name": "stdout",
     "output_type": "stream",
     "text": [
      "Skipped 0 observations\n",
      "Flushed 0 observations from queue for being stale\n",
      "Completed 1249 observations\n",
      "ran in 0 min = 0.0 hours\n",
      "Writing results to  None\n"
     ]
    }
   ],
   "source": [
    "mo, sched, completed_obs = sim_runner(mo, sched, survey_length=3)\n"
   ]
  },
  {
   "cell_type": "code",
   "execution_count": null,
   "id": "0909a202",
   "metadata": {},
   "outputs": [],
   "source": []
  },
  {
   "cell_type": "code",
   "execution_count": null,
   "id": "fa34d654",
   "metadata": {},
   "outputs": [],
   "source": []
  },
  {
   "cell_type": "code",
   "execution_count": 10,
   "id": "dbdf9b80",
   "metadata": {},
   "outputs": [
    {
     "data": {
      "text/plain": [
       "[<matplotlib.lines.Line2D at 0x13de35030>]"
      ]
     },
     "execution_count": 10,
     "metadata": {},
     "output_type": "execute_result"
    },
    {
     "data": {
      "image/png": "[encoded data removed]",
      "text/plain": [
       "<Figure size 640x480 with 1 Axes>"
      ]
     },
     "metadata": {},
     "output_type": "display_data"
    }
   ],
   "source": [
    "plt.plot(np.degrees(obs['RA']), np.degrees(obs['dec']), 'ko')"
   ]
  },
  {
   "cell_type": "code",
   "execution_count": 11,
   "id": "d8d6a52c",
   "metadata": {},
   "outputs": [],
   "source": [
    "file = open('save_test.pkl', 'wb')\n",
    "pickle.dump(sched, file)\n",
    "file.close()"
   ]
  },
  {
   "cell_type": "code",
   "execution_count": 18,
   "id": "57a2c363",
   "metadata": {},
   "outputs": [
    {
     "data": {
      "text/plain": [
       "<Popen: returncode: None args: ['ls -lh *.pkl']>"
      ]
     },
     "execution_count": 18,
     "metadata": {},
     "output_type": "execute_result"
    },
    {
     "name": "stdout",
     "output_type": "stream",
     "text": [
      "-rw-r--r--  1 yoachim  staff   3.4M Sep 21 20:16 save_test.pkl\n"
     ]
    }
   ],
   "source": [
    "# How large is it to save this thing\n",
    "from subprocess import Popen\n",
    "Popen(['ls -lh *.pkl'], shell=True)"
   ]
  },
  {
   "cell_type": "code",
   "execution_count": 17,
   "id": "83fb320b",
   "metadata": {},
   "outputs": [
    {
     "data": {
      "text/plain": [
       "Text(0, 0.5, 'Dec')"
      ]
     },
     "execution_count": 17,
     "metadata": {},
     "output_type": "execute_result"
    },
    {
     "data": {
      "image/png": "[encoded data removed]",
      "text/plain": [
       "<Figure size 640x480 with 2 Axes>"
      ]
     },
     "metadata": {},
     "output_type": "display_data"
    }
   ],
   "source": [
    "plt.scatter(np.degrees(completed_obs['RA']), np.degrees(completed_obs['dec']),\n",
    "            c=completed_obs['mjd']-completed_obs['mjd'].min(), alpha=0.1)\n",
    "cb = plt.colorbar()\n",
    "cb.set_label('Night')\n",
    "plt.xlabel('RA')\n",
    "plt.ylabel('Dec')"
   ]
  },
  {
   "cell_type": "code",
   "execution_count": null,
   "id": "957e5f13",
   "metadata": {},
   "outputs": [],
   "source": []
  }
 ],
 "metadata": {
  "kernelspec": {
   "display_name": "Python 3 (ipykernel)",
   "language": "python",
   "name": "python3"
  },
  "language_info": {
   "codemirror_mode": {
    "name": "ipython",
    "version": 3
   },
   "file_extension": ".py",
   "mimetype": "text/x-python",
   "name": "python",
   "nbconvert_exporter": "python",
   "pygments_lexer": "ipython3",
   "version": "3.10.6"
  }
 },
 "nbformat": 4,
 "nbformat_minor": 5
}
