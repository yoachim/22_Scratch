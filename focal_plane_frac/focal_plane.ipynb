{
 "cells": [
  {
   "cell_type": "code",
   "execution_count": 1,
   "id": "5add61b6",
   "metadata": {},
   "outputs": [],
   "source": [
    "import numpy as np\n",
    "import matplotlib.pylab as plt\n",
    "from rubin_sim.utils import LsstCameraFootprint, angularSeparation"
   ]
  },
  {
   "cell_type": "code",
   "execution_count": 2,
   "id": "f4a1b964",
   "metadata": {},
   "outputs": [],
   "source": [
    "fp = LsstCameraFootprint()"
   ]
  },
  {
   "cell_type": "code",
   "execution_count": 3,
   "id": "6d44b8eb",
   "metadata": {},
   "outputs": [],
   "source": [
    "ra, dec = np.meshgrid(np.arange(-2,2, 0.01), np.arange(-2,2, 0.01))"
   ]
  },
  {
   "cell_type": "code",
   "execution_count": 4,
   "id": "be19cc27",
   "metadata": {},
   "outputs": [
    {
     "data": {
      "image/png": "[encoded data removed]",
      "text/plain": [
       "<Figure size 432x288 with 1 Axes>"
      ]
     },
     "metadata": {
      "needs_background": "light"
     },
     "output_type": "display_data"
    }
   ],
   "source": [
    "ack = plt.plot(ra,dec, 'ko')"
   ]
  },
  {
   "cell_type": "code",
   "execution_count": 5,
   "id": "9a345a9d",
   "metadata": {},
   "outputs": [],
   "source": [
    "zs = np.zeros(ra.size)\n",
    "indx = fp(ra.ravel(), dec.ravel(), zs, zs, zs)"
   ]
  },
  {
   "cell_type": "code",
   "execution_count": 6,
   "id": "7603f552",
   "metadata": {},
   "outputs": [
    {
     "data": {
      "text/plain": [
       "array([ 12257,  12258,  12259, ..., 148181, 148182, 148183])"
      ]
     },
     "execution_count": 6,
     "metadata": {},
     "output_type": "execute_result"
    }
   ],
   "source": [
    "indx"
   ]
  },
  {
   "cell_type": "code",
   "execution_count": 7,
   "id": "16d71243",
   "metadata": {},
   "outputs": [
    {
     "data": {
      "image/png": "[encoded data removed]",
      "text/plain": [
       "<Figure size 432x288 with 1 Axes>"
      ]
     },
     "metadata": {
      "needs_background": "light"
     },
     "output_type": "display_data"
    }
   ],
   "source": [
    "ack = plt.plot(ra,dec, 'ko')\n",
    "ack = plt.plot(ra.ravel()[indx], dec.ravel()[indx], 'ro')"
   ]
  },
  {
   "cell_type": "code",
   "execution_count": 8,
   "id": "f299cde1",
   "metadata": {},
   "outputs": [],
   "source": [
    "dist = angularSeparation(ra.ravel()[indx], dec.ravel()[indx], 0., 0.)"
   ]
  },
  {
   "cell_type": "code",
   "execution_count": 9,
   "id": "80ed8dc9",
   "metadata": {},
   "outputs": [],
   "source": [
    "in_sci = np.where(dist < 3.5/2)[0]"
   ]
  },
  {
   "cell_type": "code",
   "execution_count": 10,
   "id": "2cf5907b",
   "metadata": {},
   "outputs": [
    {
     "data": {
      "image/png": "[encoded data removed]",
      "text/plain": [
       "<Figure size 432x288 with 1 Axes>"
      ]
     },
     "metadata": {
      "needs_background": "light"
     },
     "output_type": "display_data"
    }
   ],
   "source": [
    "ack = plt.plot(ra,dec, 'ko')\n",
    "ack = plt.plot(ra.ravel()[indx], dec.ravel()[indx], 'ro')\n",
    "ack = plt.plot(ra.ravel()[indx[in_sci]], dec.ravel()[indx[in_sci]], 'bo')\n"
   ]
  },
  {
   "cell_type": "code",
   "execution_count": 11,
   "id": "7b239245",
   "metadata": {},
   "outputs": [
    {
     "data": {
      "text/plain": [
       "2.952016684343291"
      ]
     },
     "execution_count": 11,
     "metadata": {},
     "output_type": "execute_result"
    }
   ],
   "source": [
    "# we have 189 4kx4k ccds\n",
    "active_pix = 4112*4112*189 * in_sci.size/indx.size\n",
    "active_pix/1e9"
   ]
  },
  {
   "cell_type": "code",
   "execution_count": 12,
   "id": "897ab4e1",
   "metadata": {},
   "outputs": [
    {
     "data": {
      "text/plain": [
       "3.195714816"
      ]
     },
     "execution_count": 12,
     "metadata": {},
     "output_type": "execute_result"
    }
   ],
   "source": [
    "4112*4112*189/1e9"
   ]
  },
  {
   "cell_type": "code",
   "execution_count": null,
   "id": "5ebda546",
   "metadata": {},
   "outputs": [],
   "source": []
  },
  {
   "cell_type": "code",
   "execution_count": null,
   "id": "bd6106f7",
   "metadata": {},
   "outputs": [],
   "source": []
  }
 ],
 "metadata": {
  "kernelspec": {
   "display_name": "Python 3 (ipykernel)",
   "language": "python",
   "name": "python3"
  },
  "language_info": {
   "codemirror_mode": {
    "name": "ipython",
    "version": 3
   },
   "file_extension": ".py",
   "mimetype": "text/x-python",
   "name": "python",
   "nbconvert_exporter": "python",
   "pygments_lexer": "ipython3",
   "version": "3.8.13"
  }
 },
 "nbformat": 4,
 "nbformat_minor": 5
}
