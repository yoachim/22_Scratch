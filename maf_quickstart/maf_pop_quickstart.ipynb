{
 "cells": [
  {
   "cell_type": "code",
   "execution_count": 1,
   "id": "3157b759",
   "metadata": {},
   "outputs": [],
   "source": [
    "# Another quick start example on how one might write a metric for a transient population"
   ]
  },
  {
   "cell_type": "code",
   "execution_count": 2,
   "id": "054bd2d6",
   "metadata": {},
   "outputs": [],
   "source": [
    "import numpy as np\n",
    "import matplotlib.pylab as plt\n",
    "%matplotlib inline\n",
    "import rubin_sim.maf as maf\n",
    "import healpy as hp\n",
    "from rubin_sim.data import get_baseline"
   ]
  },
  {
   "cell_type": "code",
   "execution_count": 3,
   "id": "02a29c45",
   "metadata": {},
   "outputs": [],
   "source": [
    "# Need a database to work on. You can grab this one from: \n",
    "# http://astro-lsst-01.astro.washington.edu:8080/fbs_db/fbs_2.99/draft/draft_connected_v2.99_10yrs.db\n",
    "\n",
    "# all the columns in the database documented at: https://rubin-sim.lsst.io/rs_scheduler/output_schema.html\n",
    "\n",
    "# or just use the baseline that comes with rubin_sim\n",
    "filename = get_baseline()\n",
    "run_name = filename.replace('.db', '')\n"
   ]
  },
  {
   "cell_type": "code",
   "execution_count": 5,
   "id": "e62747e0",
   "metadata": {},
   "outputs": [],
   "source": [
    "# very simple. Probably want to actually compute things per filter\n",
    "def simple_light_curve(nights, peak_times, amplitude, duration, mag=22):\n",
    "    result = nights*0 + mag\n",
    "    boosted_indx = np.where((nights >= peak_times) & (nights <= (peak_times - duration)))[0]\n",
    "    result[boosted_indx] -= amplitude  # negative since magnitudes are backwards\n",
    "    \n",
    "    return result"
   ]
  },
  {
   "cell_type": "code",
   "execution_count": 4,
   "id": "dcd28ad7",
   "metadata": {},
   "outputs": [],
   "source": [
    "from rubin_sim.utils import uniform_sphere\n",
    "\n",
    "def generate_transient_slicer(\n",
    "    transient_amplitude=1,\n",
    "    transient_duration=10,\n",
    "    t_start=1,\n",
    "    t_end=3652,\n",
    "    n_events=10000,\n",
    "    seed=42,\n",
    "    nside=128,\n",
    "    filtername=\"r\",\n",
    "):\n",
    "    \"\"\"\n",
    "    Generate a UserPointSlicer with a population of transient events. To be used with\n",
    "\n",
    "    Parameters\n",
    "    ----------\n",
    "    transient_amplitude : float (1)\n",
    "        Some amplitude (mags)\n",
    "    transient_duration : float (10)\n",
    "        Duration of time for the events generated (days)\n",
    "    t_start : float (1)\n",
    "        The night to start generating peaks (days)\n",
    "    t_end : float (3652)\n",
    "        The night to end generating peaks (days)\n",
    "    n_events : int (10000)\n",
    "        Number of events to generate\n",
    "    seed : float (42)\n",
    "        Random number seed\n",
    "    nside : int (128)\n",
    "        HEALpix nside, used to pick which stellar density map to load\n",
    "    filtername : str ('r')\n",
    "        The filter to use for the stellar density map\n",
    "    \"\"\"\n",
    "    np.random.seed(seed)\n",
    "\n",
    "    # put points uniformly all over the sky\n",
    "    # other metrics have examples of distributing like stars in the Galaxy\n",
    "    ra, dec = uniform_sphere(n_events, seed=seed)\n",
    "    \n",
    "    # When the events happen\n",
    "    peak_times = np.random.uniform(low=t_start, high=t_end, size=n_events)\n",
    "\n",
    "    # Set up the slicer to evaluate the catalog we just made\n",
    "    slicer = slicers.UserPointsSlicer(ra, dec, lat_lon_deg=True, badval=0)\n",
    "    # Add any additional information about each object to the slicer\n",
    "    slicer.slice_points[\"peak_time\"] = peak_times\n",
    "    slicer.slice_points[\"transient_amplitude\"] = transient_amplitude\n",
    "    slicer.slice_points[\"transient_duration\"] = transient_duration\n",
    "\n",
    "    return slicer\n"
   ]
  },
  {
   "cell_type": "code",
   "execution_count": null,
   "id": "9b9e486c",
   "metadata": {},
   "outputs": [],
   "source": [
    "# Let's make a metric\n",
    "class SimpleTransientMetric(maf.BaseMetric):\n",
    "    def __init__(self):\n",
    "        pass\n",
    "\n",
    "    def run(self, data_slice, slice_point=None):\n",
    "        \n",
    "        # Call the light curve function\n",
    "        light_curve = simple_light_curve(data_slice[self.night_col],\n",
    "                                         slice_point[\"peak_time\"],\n",
    "                                         slice_point[\"amplitude\"],\n",
    "                                         slice_point[\"duration\"])\n",
    "        \n",
    "        # do we detect a change?\n",
    "        \n",
    "        \n",
    "        pass\n",
    "    "
   ]
  }
 ],
 "metadata": {
  "kernelspec": {
   "display_name": "Python 3 (ipykernel)",
   "language": "python",
   "name": "python3"
  },
  "language_info": {
   "codemirror_mode": {
    "name": "ipython",
    "version": 3
   },
   "file_extension": ".py",
   "mimetype": "text/x-python",
   "name": "python",
   "nbconvert_exporter": "python",
   "pygments_lexer": "ipython3",
   "version": "3.8.13"
  }
 },
 "nbformat": 4,
 "nbformat_minor": 5
}
