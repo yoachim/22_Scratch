{
 "cells": [
  {
   "cell_type": "code",
   "execution_count": 1,
   "id": "cd96bde0",
   "metadata": {},
   "outputs": [],
   "source": [
    "from rubin_sim.scheduler.utils import Sky_area_generator\n",
    "import healpy as hp\n",
    "%matplotlib inline\n",
    "import numpy as np"
   ]
  },
  {
   "cell_type": "code",
   "execution_count": 2,
   "id": "97578cf6",
   "metadata": {},
   "outputs": [],
   "source": [
    "# Full class is at: https://github.com/lsst/rubin_sim/blob/main/rubin_sim/scheduler/utils/sky_area.py\n",
    "class My_new_footprint_generator(Sky_area_generator):\n",
    "    #XXX#\n",
    "    # Call it whatever you like, set the label kwarg to what you like\n",
    "    def add_my_new_region(self, filter_ratios, radius=6., label='new_region'):\n",
    "    #XXX#\n",
    "        temp_map = np.zeros(hp.nside2npix(self.nside))\n",
    "        #XXX#\n",
    "        # Replace below with code that sets the HEALpix you are interested in to\n",
    "        # a non-zero value\n",
    "        # Let's set three points \n",
    "        ra = [40,40,40]\n",
    "        dec = [-90, -60, -20]\n",
    "        for r,d in zip(ra, dec):\n",
    "            # Use internal method to find HEALpix within radius of our RA,Dec points\n",
    "            temp_map += self._set_circular_region(r, d, radius)\n",
    "        #XXX#\n",
    "            \n",
    "        # Don't overide any pixels that have already been designated\n",
    "        indx = np.where((temp_map > 0) & (self.pix_labels == \"\"))\n",
    "        self.pix_labels[indx] = label\n",
    "        for filtername in filter_ratios:\n",
    "            self.healmaps[filtername][indx] = filter_ratios[filtername]\n",
    "            \n",
    "    def return_maps(\n",
    "        self,\n",
    "        magellenic_clouds_ratios={\"u\": 0.32,\"g\": 0.4,\"r\": 1.0,\"i\": 1.0,\"z\": 0.9,\"y\": 0.9,},\n",
    "        scp_ratios={\"u\": 0.1, \"g\": 0.1, \"r\": 0.1, \"i\": 0.1, \"z\": 0.1, \"y\": 0.1},\n",
    "        nes_ratios={\"g\": 0.28, \"r\": 0.4, \"i\": 0.4, \"z\": 0.28},\n",
    "        dusty_plane_ratios={\"u\": 0.1,\"g\": 0.28, \"r\": 0.28,\"i\": 0.28,\"z\": 0.28,\"y\": 0.1,},\n",
    "        low_dust_ratios={\"u\": 0.32, \"g\": 0.4, \"r\": 1.0, \"i\": 1.0, \"z\": 0.9, \"y\": 0.9},\n",
    "        bulge_ratios={\"u\": 0.18, \"g\": 1.0, \"r\": 1.05, \"i\": 1.05, \"z\": 1.0, \"y\": 0.23},\n",
    "        virgo_ratios={\"u\": 0.32, \"g\": 0.4, \"r\": 1.0, \"i\": 1.0, \"z\": 0.9, \"y\": 0.9},\n",
    "        #XXX#\n",
    "        #Add what you want the filter distribution to be on your new area. Setting extreme so it shows up.\n",
    "        # If in doubt, just use the same as low_dust_ratios\n",
    "        my_new_ratios={\"u\": 5, \"g\": 5, \"r\": 5, \"i\": 5, \"z\": 5, \"y\": 5},\n",
    "        #XXX#\n",
    "        ):\n",
    "        # Array to hold the labels for each pixel\n",
    "        self.pix_labels = np.zeros(hp.nside2npix(self.nside), dtype=\"U20\")\n",
    "        self.healmaps = np.zeros(\n",
    "            hp.nside2npix(self.nside),\n",
    "            dtype=list(zip([\"u\", \"g\", \"r\", \"i\", \"z\", \"y\"], [float] * 7)),\n",
    "        )\n",
    "\n",
    "        # Note, order here matters. Once a HEALpix is set and labled, subsequent add_ methods\n",
    "        # will not override that pixel.\n",
    "        #XXX# Add the call to the new method above\n",
    "        self.add_my_new_region(my_new_ratios)\n",
    "        #XXX#\n",
    "        self.add_magellanic_clouds(magellenic_clouds_ratios)\n",
    "        self.add_lowdust_wfd(low_dust_ratios)\n",
    "        self.add_virgo_cluster(virgo_ratios)\n",
    "        self.add_bulge(bulge_ratios)\n",
    "        self.add_nes(nes_ratios)\n",
    "        self.add_dusty_plane(dusty_plane_ratios)\n",
    "        self.add_scp(scp_ratios)\n",
    "\n",
    "        return self.healmaps, self.pix_labels"
   ]
  },
  {
   "cell_type": "code",
   "execution_count": null,
   "id": "2727ff92",
   "metadata": {},
   "outputs": [],
   "source": []
  },
  {
   "cell_type": "code",
   "execution_count": 3,
   "id": "f89611a0",
   "metadata": {},
   "outputs": [
    {
     "data": {
      "image/png": "[encoded data removed]",
      "text/plain": [
       "<Figure size 612x388.8 with 2 Axes>"
      ]
     },
     "metadata": {
      "needs_background": "light"
     },
     "output_type": "display_data"
    }
   ],
   "source": [
    "sag = Sky_area_generator()\n",
    "sky_maps, labels = sag.return_maps()\n",
    "hp.mollview(sky_maps['r'], title='original')"
   ]
  },
  {
   "cell_type": "code",
   "execution_count": 4,
   "id": "e6626fdc",
   "metadata": {},
   "outputs": [
    {
     "data": {
      "image/png": "[encoded data removed]",
      "text/plain": [
       "<Figure size 612x388.8 with 2 Axes>"
      ]
     },
     "metadata": {
      "needs_background": "light"
     },
     "output_type": "display_data"
    }
   ],
   "source": [
    "sag = My_new_footprint_generator()\n",
    "sky_maps, labels = sag.return_maps()\n",
    "hp.mollview(sky_maps['r'], title='updated')"
   ]
  },
  {
   "cell_type": "code",
   "execution_count": 5,
   "id": "6df9b329",
   "metadata": {},
   "outputs": [
    {
     "name": "stdout",
     "output_type": "stream",
     "text": [
      "0 \n",
      "1 LMC_SMC\n",
      "2 bulge\n",
      "3 dusty_plane\n",
      "4 lowdust\n",
      "5 nes\n",
      "6 new_region\n",
      "7 scp\n",
      "8 virgo\n"
     ]
    },
    {
     "data": {
      "image/png": "[encoded data removed]",
      "text/plain": [
       "<Figure size 612x388.8 with 2 Axes>"
      ]
     },
     "metadata": {
      "needs_background": "light"
     },
     "output_type": "display_data"
    }
   ],
   "source": [
    "# Look at the labels\n",
    "label_int = np.zeros(hp.nside2npix(32))\n",
    "for i,label in enumerate(np.unique(labels)):\n",
    "    indx = np.where(labels == label)[0]\n",
    "    label_int[indx] = i\n",
    "    print(i, label)\n",
    "hp.mollview(label_int)"
   ]
  },
  {
   "cell_type": "code",
   "execution_count": null,
   "id": "37d0b704",
   "metadata": {},
   "outputs": [],
   "source": []
  }
 ],
 "metadata": {
  "kernelspec": {
   "display_name": "Python 3 (ipykernel)",
   "language": "python",
   "name": "python3"
  },
  "language_info": {
   "codemirror_mode": {
    "name": "ipython",
    "version": 3
   },
   "file_extension": ".py",
   "mimetype": "text/x-python",
   "name": "python",
   "nbconvert_exporter": "python",
   "pygments_lexer": "ipython3",
   "version": "3.8.12"
  }
 },
 "nbformat": 4,
 "nbformat_minor": 5
}
