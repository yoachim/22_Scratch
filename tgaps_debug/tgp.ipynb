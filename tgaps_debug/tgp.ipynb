{
 "cells": [
  {
   "cell_type": "code",
   "execution_count": 1,
   "id": "dd0850c4",
   "metadata": {},
   "outputs": [],
   "source": [
    "import numpy as np\n",
    "import rubin_sim.maf as maf"
   ]
  },
  {
   "cell_type": "code",
   "execution_count": 2,
   "id": "795560b9",
   "metadata": {},
   "outputs": [],
   "source": [
    "names = ['observationStartMJD']\n",
    "types = [float]\n",
    "times = np.arange(5, ).astype(list(zip(names, types)))\n",
    "\n",
    "#data = np.zeros(times.size, dtype=list(zip(names, types)))\n",
    "#data['observationStartMJD'] = times"
   ]
  },
  {
   "cell_type": "code",
   "execution_count": 3,
   "id": "cc7069c6",
   "metadata": {},
   "outputs": [
    {
     "data": {
      "text/plain": [
       "array([0., 1., 2., 3., 4.])"
      ]
     },
     "execution_count": 3,
     "metadata": {},
     "output_type": "execute_result"
    }
   ],
   "source": [
    "times['observationStartMJD']"
   ]
  },
  {
   "cell_type": "code",
   "execution_count": 4,
   "id": "2e292fe3",
   "metadata": {},
   "outputs": [],
   "source": [
    "metric = maf.TgapsPercentMetric(min_time=23/24, max_time=25/24)"
   ]
  },
  {
   "cell_type": "code",
   "execution_count": 5,
   "id": "d001e6e6",
   "metadata": {},
   "outputs": [
    {
     "data": {
      "text/plain": [
       "100.0"
      ]
     },
     "execution_count": 5,
     "metadata": {},
     "output_type": "execute_result"
    }
   ],
   "source": [
    "metric.run(times)"
   ]
  },
  {
   "cell_type": "code",
   "execution_count": 6,
   "id": "23455237",
   "metadata": {},
   "outputs": [],
   "source": [
    "big_times = np.concatenate((np.arange(5), np.arange(20,100,3),np.arange(5)+100) ).astype(list(zip(names, types)))"
   ]
  },
  {
   "cell_type": "code",
   "execution_count": 7,
   "id": "e1ad63cf",
   "metadata": {},
   "outputs": [
    {
     "data": {
      "text/plain": [
       "22.22222222222222"
      ]
     },
     "execution_count": 7,
     "metadata": {},
     "output_type": "execute_result"
    }
   ],
   "source": [
    "metric.run(big_times)"
   ]
  },
  {
   "cell_type": "code",
   "execution_count": 8,
   "id": "491e0542",
   "metadata": {},
   "outputs": [],
   "source": [
    "# so, here I have twice as many gaps of 1-day, but the metric has dropped from 100 to 22"
   ]
  },
  {
   "cell_type": "code",
   "execution_count": null,
   "id": "5b453e6e",
   "metadata": {},
   "outputs": [],
   "source": []
  }
 ],
 "metadata": {
  "kernelspec": {
   "display_name": "Python 3 (ipykernel)",
   "language": "python",
   "name": "python3"
  },
  "language_info": {
   "codemirror_mode": {
    "name": "ipython",
    "version": 3
   },
   "file_extension": ".py",
   "mimetype": "text/x-python",
   "name": "python",
   "nbconvert_exporter": "python",
   "pygments_lexer": "ipython3",
   "version": "3.8.13"
  }
 },
 "nbformat": 4,
 "nbformat_minor": 5
}
