{
 "cells": [
  {
   "cell_type": "code",
   "execution_count": 1,
   "id": "3f319cb8",
   "metadata": {},
   "outputs": [],
   "source": [
    "import numpy as np\n",
    "from rubin_sim.data import get_data_dir\n",
    "from rubin_sim.photUtils import Bandpass, PhotometricParameters\n",
    "import os"
   ]
  },
  {
   "cell_type": "code",
   "execution_count": 2,
   "id": "3d6c88ac",
   "metadata": {},
   "outputs": [],
   "source": [
    "zp_inst = {}\n",
    "datadir = get_data_dir()\n",
    "for filtername in \"ugrizy\":\n",
    "    # set gain and exptime to 1 so the instrumental zeropoint will be in photoelectrons and per second\n",
    "    phot_params = PhotometricParameters(\n",
    "        nexp=1, gain=1, exptime=1, bandpass=filtername\n",
    "    )\n",
    "    bp = Bandpass()\n",
    "    bp.readThroughput(\n",
    "        os.path.join(\n",
    "            datadir, \"throughputs/baseline/\", \"total_%s.dat\" % filtername\n",
    "        )\n",
    "    )\n",
    "    zp_inst[filtername] = bp.calcZP_t(phot_params)"
   ]
  },
  {
   "cell_type": "code",
   "execution_count": 3,
   "id": "cb004863",
   "metadata": {},
   "outputs": [
    {
     "data": {
      "text/plain": [
       "{'u': 26.930630906256887,\n",
       " 'g': 28.338556652285675,\n",
       " 'r': 28.131005103939575,\n",
       " 'i': 27.8413594264397,\n",
       " 'z': 27.448741867001043,\n",
       " 'y': 26.65798980004943}"
      ]
     },
     "execution_count": 3,
     "metadata": {},
     "output_type": "execute_result"
    }
   ],
   "source": [
    "zp_inst"
   ]
  },
  {
   "cell_type": "code",
   "execution_count": null,
   "id": "188bf44e",
   "metadata": {},
   "outputs": [],
   "source": []
  },
  {
   "cell_type": "code",
   "execution_count": null,
   "id": "48f5fde0",
   "metadata": {},
   "outputs": [],
   "source": []
  },
  {
   "cell_type": "raw",
   "id": "f8105a70",
   "metadata": {},
   "source": []
  }
 ],
 "metadata": {
  "kernelspec": {
   "display_name": "Python 3 (ipykernel)",
   "language": "python",
   "name": "python3"
  },
  "language_info": {
   "codemirror_mode": {
    "name": "ipython",
    "version": 3
   },
   "file_extension": ".py",
   "mimetype": "text/x-python",
   "name": "python",
   "nbconvert_exporter": "python",
   "pygments_lexer": "ipython3",
   "version": "3.8.12"
  }
 },
 "nbformat": 4,
 "nbformat_minor": 5
}
