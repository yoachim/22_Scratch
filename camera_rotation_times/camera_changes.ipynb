{
 "cells": [
  {
   "cell_type": "code",
   "execution_count": 2,
   "id": "2b4ee219",
   "metadata": {},
   "outputs": [],
   "source": [
    "import os\n",
    "import numpy as np\n",
    "import pandas as pd\n",
    "import matplotlib.pyplot as plt\n",
    "from rubin_sim.data import get_baseline\n",
    "import sqlite3"
   ]
  },
  {
   "cell_type": "code",
   "execution_count": 3,
   "id": "7af1d6d6",
   "metadata": {},
   "outputs": [],
   "source": [
    "baseline = get_baseline()"
   ]
  },
  {
   "cell_type": "code",
   "execution_count": 4,
   "id": "e3661f3c",
   "metadata": {},
   "outputs": [
    {
     "data": {
      "text/plain": [
       "'/Users/yoachim/rubin_sim_data/sim_baseline/baseline_v2.1_10yrs.db'"
      ]
     },
     "execution_count": 4,
     "metadata": {},
     "output_type": "execute_result"
    }
   ],
   "source": [
    "baseline"
   ]
  },
  {
   "cell_type": "code",
   "execution_count": 5,
   "id": "29141e84",
   "metadata": {},
   "outputs": [],
   "source": [
    "con = sqlite3.connect(baseline)\n",
    "df = pd.read_sql('select * from observations', con)\n",
    "con.close()"
   ]
  },
  {
   "cell_type": "code",
   "execution_count": 9,
   "id": "d27fffae",
   "metadata": {},
   "outputs": [],
   "source": [
    "same_filt = df['filter'].values[1:] == df['filter'].values[:-1]"
   ]
  },
  {
   "cell_type": "code",
   "execution_count": 12,
   "id": "af79063e",
   "metadata": {},
   "outputs": [],
   "source": [
    "close = df['observationStartMJD'].values[1:]-df['observationStartMJD'].values[:-1] < 2./60./24"
   ]
  },
  {
   "cell_type": "code",
   "execution_count": 24,
   "id": "c69975f4",
   "metadata": {},
   "outputs": [],
   "source": [
    "d_rot = df['rotTelPos'].values[1:][(same_filt & close)] - df['rotTelPos'].values[:-1][(same_filt & close)]\n",
    "\n",
    "d_rot[np.where(d_rot > 180)] -=360\n",
    "d_rot[np.where(d_rot < -180)] +=360\n"
   ]
  },
  {
   "cell_type": "code",
   "execution_count": 25,
   "id": "082a67c8",
   "metadata": {},
   "outputs": [
    {
     "data": {
      "image/png": "[encoded data removed]",
      "text/plain": [
       "<Figure size 432x288 with 1 Axes>"
      ]
     },
     "metadata": {
      "needs_background": "light"
     },
     "output_type": "display_data"
    }
   ],
   "source": [
    "ack = plt.hist(d_rot, bins=100)"
   ]
  },
  {
   "cell_type": "code",
   "execution_count": 26,
   "id": "02aa4c28",
   "metadata": {},
   "outputs": [
    {
     "data": {
      "text/plain": [
       "79.61750449637162"
      ]
     },
     "execution_count": 26,
     "metadata": {},
     "output_type": "execute_result"
    }
   ],
   "source": [
    "d_rot.max()"
   ]
  },
  {
   "cell_type": "code",
   "execution_count": 27,
   "id": "e41a9110",
   "metadata": {},
   "outputs": [
    {
     "data": {
      "image/png": "[encoded data removed]",
      "text/plain": [
       "<Figure size 432x288 with 1 Axes>"
      ]
     },
     "metadata": {
      "needs_background": "light"
     },
     "output_type": "display_data"
    }
   ],
   "source": [
    "ack = plt.hist(np.abs(d_rot), bins=100)"
   ]
  },
  {
   "cell_type": "code",
   "execution_count": 29,
   "id": "a452dd89",
   "metadata": {},
   "outputs": [
    {
     "data": {
      "text/plain": [
       "(0.5605779833228723, 1.2104034398760808)"
      ]
     },
     "execution_count": 29,
     "metadata": {},
     "output_type": "execute_result"
    }
   ],
   "source": [
    "np.median(np.abs(d_rot)), np.mean(np.abs(d_rot))"
   ]
  },
  {
   "cell_type": "code",
   "execution_count": null,
   "id": "9f29cca4",
   "metadata": {},
   "outputs": [],
   "source": []
  }
 ],
 "metadata": {
  "kernelspec": {
   "display_name": "Python 3 (ipykernel)",
   "language": "python",
   "name": "python3"
  },
  "language_info": {
   "codemirror_mode": {
    "name": "ipython",
    "version": 3
   },
   "file_extension": ".py",
   "mimetype": "text/x-python",
   "name": "python",
   "nbconvert_exporter": "python",
   "pygments_lexer": "ipython3",
   "version": "3.8.13"
  }
 },
 "nbformat": 4,
 "nbformat_minor": 5
}
