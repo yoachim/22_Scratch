{
 "cells": [
  {
   "cell_type": "code",
   "execution_count": 1,
   "id": "d8a407e6",
   "metadata": {},
   "outputs": [],
   "source": [
    "import numpy as np"
   ]
  },
  {
   "cell_type": "code",
   "execution_count": 2,
   "id": "a60153e8",
   "metadata": {},
   "outputs": [],
   "source": [
    "# if we draw 10 numbers from 0-100, what are the odds they are sorted?"
   ]
  },
  {
   "cell_type": "code",
   "execution_count": 3,
   "id": "44f78c02",
   "metadata": {},
   "outputs": [],
   "source": [
    "rng = np.random.default_rng(seed=42)"
   ]
  },
  {
   "cell_type": "code",
   "execution_count": 4,
   "id": "683de32a",
   "metadata": {},
   "outputs": [],
   "source": [
    "arr = np.round(rng.random((10,int(5e7)))*5)\n",
    "#arr = rng.random((10,int(5e7)))"
   ]
  },
  {
   "cell_type": "code",
   "execution_count": 5,
   "id": "ab64e388",
   "metadata": {},
   "outputs": [],
   "source": [
    "sorted_arr = np.sort(arr, axis=0)"
   ]
  },
  {
   "cell_type": "code",
   "execution_count": 6,
   "id": "75ecb1dc",
   "metadata": {},
   "outputs": [],
   "source": [
    "diff = np.abs(arr - sorted_arr).max(axis=0)"
   ]
  },
  {
   "cell_type": "code",
   "execution_count": null,
   "id": "209043cc",
   "metadata": {},
   "outputs": [],
   "source": []
  },
  {
   "cell_type": "code",
   "execution_count": 7,
   "id": "8f4008e4",
   "metadata": {},
   "outputs": [
    {
     "data": {
      "text/plain": [
       "(array([    1014,    17148,    33222, ..., 49954485, 49980249, 49994567]),)"
      ]
     },
     "execution_count": 7,
     "metadata": {},
     "output_type": "execute_result"
    }
   ],
   "source": [
    "np.where(diff == 0)"
   ]
  },
  {
   "cell_type": "code",
   "execution_count": 8,
   "id": "140689a6",
   "metadata": {},
   "outputs": [],
   "source": [
    "prob = np.size(np.where(diff == 0)[0])/diff.size"
   ]
  },
  {
   "cell_type": "code",
   "execution_count": 9,
   "id": "5ebb9f7e",
   "metadata": {},
   "outputs": [
    {
     "data": {
      "text/plain": [
       "7.52e-05"
      ]
     },
     "execution_count": 9,
     "metadata": {},
     "output_type": "execute_result"
    }
   ],
   "source": [
    "prob"
   ]
  },
  {
   "cell_type": "code",
   "execution_count": 10,
   "id": "ec3b2bda",
   "metadata": {},
   "outputs": [
    {
     "data": {
      "text/plain": [
       "2.755731922398589e-07"
      ]
     },
     "execution_count": 10,
     "metadata": {},
     "output_type": "execute_result"
    }
   ],
   "source": [
    "1/3628800"
   ]
  },
  {
   "cell_type": "code",
   "execution_count": 11,
   "id": "07e806d5",
   "metadata": {},
   "outputs": [],
   "source": [
    "# 7.52e-05 for 0-5\n",
    "# get 5e-07 if we round by 100\n",
    "# 4.4e-07 for 200\n",
    "# 3.6e-07 if we round to 500\n",
    "# 3.6e-07 if we round after 1000\n",
    "# 3.4e-07 rounding by 10000\n",
    "# 3.4e-07 for floats"
   ]
  },
  {
   "cell_type": "code",
   "execution_count": null,
   "id": "ed6a834b",
   "metadata": {},
   "outputs": [],
   "source": []
  },
  {
   "cell_type": "code",
   "execution_count": null,
   "id": "38532c27",
   "metadata": {},
   "outputs": [],
   "source": []
  }
 ],
 "metadata": {
  "kernelspec": {
   "display_name": "Python 3 (ipykernel)",
   "language": "python",
   "name": "python3"
  },
  "language_info": {
   "codemirror_mode": {
    "name": "ipython",
    "version": 3
   },
   "file_extension": ".py",
   "mimetype": "text/x-python",
   "name": "python",
   "nbconvert_exporter": "python",
   "pygments_lexer": "ipython3",
   "version": "3.8.13"
  }
 },
 "nbformat": 4,
 "nbformat_minor": 5
}
