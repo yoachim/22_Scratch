{
 "cells": [
  {
   "cell_type": "markdown",
   "id": "ac543f55",
   "metadata": {},
   "source": [
    "Some thoughts on doing satellite dodging"
   ]
  },
  {
   "cell_type": "code",
   "execution_count": 1,
   "id": "c9de5c70",
   "metadata": {},
   "outputs": [],
   "source": [
    "import numpy as np"
   ]
  },
  {
   "cell_type": "code",
   "execution_count": 2,
   "id": "44318d36",
   "metadata": {},
   "outputs": [
    {
     "data": {
      "text/plain": [
       "77.92207792207793"
      ]
     },
     "execution_count": 2,
     "metadata": {},
     "output_type": "execute_result"
    }
   ],
   "source": [
    "# Let's calculate the typical efficiency of the telescope\n",
    "# open shutter 1s, expose 14s, close shutter 1s, read 2s, open shutter 1s, \n",
    "# expose 14s, close shutter 1s, slew and settle 4.5s\n",
    "\n",
    "30./(1+14+1+2+1+14+1+4.5)*100"
   ]
  },
  {
   "cell_type": "code",
   "execution_count": 3,
   "id": "aceeba95",
   "metadata": {},
   "outputs": [],
   "source": [
    "# So, we are keeping the shutter open 78% of the time in standard observing\n",
    "# (filter changes take ~2 min, sometimes we make a bigger slew, so it ends up around 72%)"
   ]
  },
  {
   "cell_type": "code",
   "execution_count": 7,
   "id": "16ac23de",
   "metadata": {},
   "outputs": [
    {
     "name": "stdout",
     "output_type": "stream",
     "text": [
      "4800000 pixels hit, or 0.158940% of pixels\n"
     ]
    }
   ],
   "source": [
    "# How much does a giant streak impact an observation?\n",
    "total_pix = 3.02e9  # Total number of pixels\n",
    "# we have 4kx4k CCDs, in 3x3 rafts. Full diameter is 5 rafts. \n",
    "scale = 0.2 # arcsec/pix\n",
    "length = 4e3*3*5  # pix\n",
    "width = 80  # pix\n",
    "pix_hit = length*width\n",
    "\n",
    "print('%i pixels hit, or %f%% of pixels' % (pix_hit, pix_hit/total_pix*100))"
   ]
  },
  {
   "cell_type": "code",
   "execution_count": 8,
   "id": "92406b18",
   "metadata": {},
   "outputs": [
    {
     "data": {
      "text/plain": [
       "75.9493670886076"
      ]
     },
     "execution_count": 8,
     "metadata": {},
     "output_type": "execute_result"
    }
   ],
   "source": [
    "# If we take 1 extra second to dodge\n",
    "30./(1+14+1+2+1+14+1+4.5+1)*100"
   ]
  },
  {
   "cell_type": "code",
   "execution_count": 9,
   "id": "01097918",
   "metadata": {},
   "outputs": [],
   "source": [
    "# Taking one extra second to dodge, we lose 2% of our efficency, all to save 0.15% of \n",
    "# the pixels from being hit. "
   ]
  },
  {
   "cell_type": "code",
   "execution_count": null,
   "id": "08cf78a0",
   "metadata": {},
   "outputs": [],
   "source": []
  },
  {
   "cell_type": "markdown",
   "id": "2656722b",
   "metadata": {},
   "source": [
    "How could we dodge satellites? \n",
    "\n",
    "The easiest way would be to forcast where there will be LOTS of satellites in the next hour, and try to avoid that part of the sky. This has the advantage of being fairly computationally cheap (just need to compute where we think thigs will be in the next ~hour). Doesn't need to be high precision. Easily fits in with out MDP system, we just make the forecast a basis function and give it a negative weight.\n",
    "\n",
    "Next option:  Say we select a region of sky we want to observe. The next step is to tesselate it with pointings, sort the pointings using a traveling salesman solver, then copy the list if we want to take things in pairs. \n",
    "\n",
    "We could take our list of desired pointings, compute the expected execution times, calculate length of streaks. If there are lots of streaks, change the order of the pointings (maybe just which one we start on), and recompute. If we get to a list with no streaks, use it, otherwise, take the minimum.\n",
    "\n",
    "This is going to be expensive (lots of satellite positions to calculate, lots of ra,dec to alt,az conversions). We probably need to insantiate the kinematic model inside the scheduler. Tough to say if we have enough precision for this to work.\n"
   ]
  },
  {
   "cell_type": "code",
   "execution_count": null,
   "id": "32c6db5a",
   "metadata": {},
   "outputs": [],
   "source": []
  }
 ],
 "metadata": {
  "kernelspec": {
   "display_name": "Python 3 (ipykernel)",
   "language": "python",
   "name": "python3"
  },
  "language_info": {
   "codemirror_mode": {
    "name": "ipython",
    "version": 3
   },
   "file_extension": ".py",
   "mimetype": "text/x-python",
   "name": "python",
   "nbconvert_exporter": "python",
   "pygments_lexer": "ipython3",
   "version": "3.8.13"
  }
 },
 "nbformat": 4,
 "nbformat_minor": 5
}
