{
 "cells": [
  {
   "cell_type": "code",
   "execution_count": 1,
   "id": "2d029101",
   "metadata": {},
   "outputs": [],
   "source": [
    "import numpy as np\n",
    "import h5py\n",
    "import tables as tb"
   ]
  },
  {
   "cell_type": "code",
   "execution_count": 2,
   "id": "3c3129ea",
   "metadata": {},
   "outputs": [],
   "source": [
    "np.random.seed(42)"
   ]
  },
  {
   "cell_type": "code",
   "execution_count": 3,
   "id": "b520b96a",
   "metadata": {},
   "outputs": [],
   "source": [
    "big_array_r = np.random.rand(9000*12000).reshape(9000,12000)\n",
    "big_array_i = np.random.rand(9000*12000).reshape(9000,12000)\n"
   ]
  },
  {
   "cell_type": "code",
   "execution_count": 4,
   "id": "55cbf56e",
   "metadata": {},
   "outputs": [],
   "source": [
    "# save it to a file\n",
    "with h5py.File('temp_h5py.h5','w') as h5f:\n",
    "\n",
    "    _ds = h5f.create_dataset('/r',data=big_array_r)\n",
    "    _ds = h5f.create_dataset('/i',data=big_array_i)"
   ]
  },
  {
   "cell_type": "code",
   "execution_count": 14,
   "id": "2c19f670",
   "metadata": {},
   "outputs": [
    {
     "name": "stdout",
     "output_type": "stream",
     "text": [
      "CPU times: user 3.98 ms, sys: 71.9 ms, total: 75.8 ms\n",
      "Wall time: 74.1 ms\n"
     ]
    }
   ],
   "source": [
    "%%time\n",
    "with h5py.File('temp_h5py.h5','r') as h5f:\n",
    "    i_sub = h5f['i'][2000:3000, :]\n",
    "    r_sub = h5f['r'][2000:3000, :]"
   ]
  },
  {
   "cell_type": "code",
   "execution_count": 15,
   "id": "2832f008",
   "metadata": {},
   "outputs": [
    {
     "name": "stdout",
     "output_type": "stream",
     "text": [
      "CPU times: user 42.1 ms, sys: 223 ms, total: 265 ms\n",
      "Wall time: 267 ms\n"
     ]
    }
   ],
   "source": [
    "%%time\n",
    "with h5py.File('temp_h5py.h5','r') as h5f:\n",
    "    i_sub = h5f['i'][:, 2000:3000]\n",
    "    r_sub = h5f['r'][:, 2000:3000]"
   ]
  },
  {
   "cell_type": "code",
   "execution_count": 17,
   "id": "2e545b07",
   "metadata": {},
   "outputs": [
    {
     "name": "stdout",
     "output_type": "stream",
     "text": [
      "CPU times: user 3.81 ms, sys: 1.01 s, total: 1.01 s\n",
      "Wall time: 1.02 s\n"
     ]
    }
   ],
   "source": [
    "%%time\n",
    "with h5py.File('temp_h5py.h5','r') as h5f:\n",
    "    i_sub = h5f['i'][:]\n",
    "    r_sub = h5f['r'][:]"
   ]
  },
  {
   "cell_type": "code",
   "execution_count": 7,
   "id": "fb4d373b",
   "metadata": {},
   "outputs": [],
   "source": [
    "# OK, so that didn't actually work. Let's maybe try pytables"
   ]
  },
  {
   "cell_type": "code",
   "execution_count": 16,
   "id": "9f859643",
   "metadata": {},
   "outputs": [
    {
     "name": "stdout",
     "output_type": "stream",
     "text": [
      "CPU times: user 4.79 ms, sys: 74.7 ms, total: 79.5 ms\n",
      "Wall time: 76.7 ms\n"
     ]
    }
   ],
   "source": [
    "%%time\n",
    "with tb.File('temp_h5py.h5','r') as h5f:\n",
    "    i_sub = h5f.root.i.read(start=2000, stop=3000)\n",
    "    r_sub = h5f.root.r.read(start=2000, stop=3000)"
   ]
  },
  {
   "cell_type": "code",
   "execution_count": 9,
   "id": "923e8869",
   "metadata": {},
   "outputs": [
    {
     "data": {
      "text/plain": [
       "(500, 12000)"
      ]
     },
     "execution_count": 9,
     "metadata": {},
     "output_type": "execute_result"
    }
   ],
   "source": [
    "i_sub.shape"
   ]
  },
  {
   "cell_type": "code",
   "execution_count": null,
   "id": "9d53f2f9",
   "metadata": {},
   "outputs": [],
   "source": [
    "# I don't totally understand it all, but it looks like either way as long as \n",
    "# we are slicing on the 1st dimension things speed up a lot compared to reading it all."
   ]
  },
  {
   "cell_type": "code",
   "execution_count": null,
   "id": "be4e1b52",
   "metadata": {},
   "outputs": [],
   "source": []
  }
 ],
 "metadata": {
  "kernelspec": {
   "display_name": "Python 3 (ipykernel)",
   "language": "python",
   "name": "python3"
  },
  "language_info": {
   "codemirror_mode": {
    "name": "ipython",
    "version": 3
   },
   "file_extension": ".py",
   "mimetype": "text/x-python",
   "name": "python",
   "nbconvert_exporter": "python",
   "pygments_lexer": "ipython3",
   "version": "3.8.12"
  }
 },
 "nbformat": 4,
 "nbformat_minor": 5
}
